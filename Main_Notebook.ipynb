{
 "cells": [
  {
   "cell_type": "markdown",
   "id": "ce3f0382",
   "metadata": {},
   "source": [
    "# Section 1: Business Understanding\n",
    "In this netbook we will look through Airbnb data for the city of Seattle. We will attempts to answer the following questions\n",
    "\n",
    "#### Question 1:Where- what locations are most popular\n",
    "#### Question 2:When- what time of the year is the busiest in Seattle\n",
    "#### Question 3:Cost- can we find some ways to get a little better value out of our rental"
   ]
  },
  {
   "cell_type": "code",
   "execution_count": 1,
   "id": "db10ea76",
   "metadata": {},
   "outputs": [],
   "source": [
    "#Import libraries\n",
    "import pandas as pd\n",
    "import numpy as np\n",
    "import matplotlib.pyplot as plt\n",
    "import seaborn as sns\n",
    "%matplotlib inline\n",
    "\n",
    "from sklearn.model_selection import train_test_split \n",
    "from sklearn.preprocessing import StandardScaler \n",
    "from sklearn.ensemble import RandomForestRegressor\n",
    "from sklearn.metrics import mean_squared_error\n",
    "from sklearn.metrics import r2_score"
   ]
  },
  {
   "cell_type": "markdown",
   "id": "ef431877",
   "metadata": {},
   "source": [
    "# Section 2: Data Understanding\n",
    "\n",
    "#### Gather"
   ]
  },
  {
   "cell_type": "code",
   "execution_count": 2,
   "id": "44ee530f",
   "metadata": {},
   "outputs": [],
   "source": [
    "#Import the data\n",
    "calendar_df = pd.read_csv('Data/calendar.csv')\n",
    "listings_df = pd.read_csv('Data/listings.csv')\n",
    "reviews_df = pd.read_csv('Data/reviews.csv',parse_dates=['date'])"
   ]
  },
  {
   "cell_type": "code",
   "execution_count": 10,
   "id": "e522092e",
   "metadata": {},
   "outputs": [
    {
     "name": "stdout",
     "output_type": "stream",
     "text": [
      "(1393570, 4)\n",
      "(3818, 92)\n",
      "(84849, 6)\n"
     ]
    }
   ],
   "source": [
    "print(calendar_df.shape)\n",
    "print(listings_df.shape)\n",
    "print(reviews_df.shape)"
   ]
  },
  {
   "cell_type": "code",
   "execution_count": 16,
   "id": "a9573519",
   "metadata": {},
   "outputs": [
    {
     "name": "stdout",
     "output_type": "stream",
     "text": [
      "calendar_df columns\n",
      "Index(['listing_id', 'date', 'available', 'price'], dtype='object')\n",
      "\n",
      "listings_df columns\n",
      "Index(['id', 'listing_url', 'scrape_id', 'last_scraped', 'name', 'summary',\n",
      "       'space', 'description', 'experiences_offered', 'neighborhood_overview',\n",
      "       'notes', 'transit', 'thumbnail_url', 'medium_url', 'picture_url',\n",
      "       'xl_picture_url', 'host_id', 'host_url', 'host_name', 'host_since',\n",
      "       'host_location', 'host_about', 'host_response_time',\n",
      "       'host_response_rate', 'host_acceptance_rate', 'host_is_superhost',\n",
      "       'host_thumbnail_url', 'host_picture_url', 'host_neighbourhood',\n",
      "       'host_listings_count', 'host_total_listings_count',\n",
      "       'host_verifications', 'host_has_profile_pic', 'host_identity_verified',\n",
      "       'street', 'neighbourhood', 'neighbourhood_cleansed',\n",
      "       'neighbourhood_group_cleansed', 'city', 'state', 'zipcode', 'market',\n",
      "       'smart_location', 'country_code', 'country', 'latitude', 'longitude',\n",
      "       'is_location_exact', 'property_type', 'room_type', 'accommodates',\n",
      "       'bathrooms', 'bedrooms', 'beds', 'bed_type', 'amenities', 'square_feet',\n",
      "       'price', 'weekly_price', 'monthly_price', 'security_deposit',\n",
      "       'cleaning_fee', 'guests_included', 'extra_people', 'minimum_nights',\n",
      "       'maximum_nights', 'calendar_updated', 'has_availability',\n",
      "       'availability_30', 'availability_60', 'availability_90',\n",
      "       'availability_365', 'calendar_last_scraped', 'number_of_reviews',\n",
      "       'first_review', 'last_review', 'review_scores_rating',\n",
      "       'review_scores_accuracy', 'review_scores_cleanliness',\n",
      "       'review_scores_checkin', 'review_scores_communication',\n",
      "       'review_scores_location', 'review_scores_value', 'requires_license',\n",
      "       'license', 'jurisdiction_names', 'instant_bookable',\n",
      "       'cancellation_policy', 'require_guest_profile_picture',\n",
      "       'require_guest_phone_verification', 'calculated_host_listings_count',\n",
      "       'reviews_per_month'],\n",
      "      dtype='object')\n",
      "\n",
      "reviews_df columns\n",
      "Index(['listing_id', 'id', 'date', 'reviewer_id', 'reviewer_name', 'comments'], dtype='object')\n"
     ]
    }
   ],
   "source": [
    "print(\"calendar_df columns\")\n",
    "print(calendar_df.columns)\n",
    "print(\"\\nlistings_df columns\")\n",
    "print(listings_df.columns)\n",
    "print(\"\\nreviews_df columns\")\n",
    "print(reviews_df.columns)"
   ]
  },
  {
   "cell_type": "code",
   "execution_count": 25,
   "id": "e5291c9d",
   "metadata": {},
   "outputs": [
    {
     "name": "stdout",
     "output_type": "stream",
     "text": [
      "bathrooms                    float64\n",
      "bedrooms                     float64\n",
      "beds                         float64\n",
      "host_total_listings_count    float64\n",
      "neighbourhood                 object\n",
      "dtype: object\n",
      "\n",
      "\n",
      "listing_id             int64\n",
      "date          datetime64[ns]\n",
      "dtype: object\n",
      "\n",
      "\n"
     ]
    }
   ],
   "source": [
    "print(listings_df[['bathrooms','bedrooms','beds','host_total_listings_count','neighbourhood']].dtypes)\n",
    "print('\\n')\n",
    "print(reviews_df[['listing_id','date']].dtypes)\n",
    "print('\\n')"
   ]
  },
  {
   "cell_type": "markdown",
   "id": "3510b32d",
   "metadata": {},
   "source": [
    "# Section 3: Data Preparation\n",
    "\n",
    "#### Question 1 - Where"
   ]
  },
  {
   "cell_type": "code",
   "execution_count": 7,
   "id": "c72f7584",
   "metadata": {},
   "outputs": [],
   "source": [
    "#We only need the neighborhoods column and can make a new dataframe base on the count of this column\n",
    "area = listings_df[['neighbourhood']]\n",
    "area_count = area['neighbourhood'].value_counts()\n",
    "top_areas = pd.DataFrame({'Neighbourhood': area_count.index[:10],\n",
    "                          'Count': area_count.iloc[:10].values\n",
    "                         })"
   ]
  },
  {
   "cell_type": "markdown",
   "id": "1b5939d1",
   "metadata": {},
   "source": [
    "#### Question 2 - When"
   ]
  },
  {
   "cell_type": "code",
   "execution_count": 8,
   "id": "2b889bd5",
   "metadata": {},
   "outputs": [],
   "source": [
    "#Grab only the needed columns\n",
    "rev = reviews_df[['listing_id','date']]\n",
    "#Filering for only 2015 as this is the most recent, complete year in the data\n",
    "rev = rev[rev['date'].dt.year == 2015]\n",
    "#add a column for which month it is\n",
    "rev['Month'] = rev['date'].dt.strftime('%b')\n",
    "#Creating a new dataframe to make the graph from\n",
    "rev_freq = pd.DataFrame(rev['Month'].value_counts().values,\n",
    "                        index=rev['Month'].value_counts().index,\n",
    "                        columns=['num_of_reviews'])\n",
    "\n",
    "rev_freq.index.name = 'Month'\n",
    "#Rearranging the ordedr to be chronological \n",
    "new_order = ['Jan', 'Feb', 'Mar', 'Apr', 'May', 'Jun', 'Jul', 'Aug', 'Sep', 'Oct', 'Nov', 'Dec']\n",
    "rev_freq = rev_freq.reindex(new_order, axis=0)"
   ]
  },
  {
   "cell_type": "markdown",
   "id": "364133a6",
   "metadata": {},
   "source": [
    "### Question 3 - Cost"
   ]
  },
  {
   "cell_type": "code",
   "execution_count": 26,
   "id": "79264757",
   "metadata": {},
   "outputs": [],
   "source": [
    "#Change index to allow merging\n",
    "listings_df = listings_df.rename(index=str, columns={'id': 'listing_id'})\n",
    "#And then merge\n",
    "combined_df = pd.merge(calendar_df, listings_df, on = 'listing_id')\n",
    "\n",
    "#Now to drop all the rows that do not have a price_x as this is our predictor\n",
    "combined_df = combined_df.dropna(subset=['price_x'])\n",
    "\n",
    "#Create a new dataframe of just the values I can use \n",
    "df = combined_df[['bathrooms','bedrooms','beds','date','host_total_listings_count',\n",
    "                  'number_of_reviews','review_scores_rating','price_x']].copy()"
   ]
  },
  {
   "cell_type": "code",
   "execution_count": 27,
   "id": "53b98365",
   "metadata": {},
   "outputs": [
    {
     "data": {
      "text/html": [
       "<div>\n",
       "<style scoped>\n",
       "    .dataframe tbody tr th:only-of-type {\n",
       "        vertical-align: middle;\n",
       "    }\n",
       "\n",
       "    .dataframe tbody tr th {\n",
       "        vertical-align: top;\n",
       "    }\n",
       "\n",
       "    .dataframe thead th {\n",
       "        text-align: right;\n",
       "    }\n",
       "</style>\n",
       "<table border=\"1\" class=\"dataframe\">\n",
       "  <thead>\n",
       "    <tr style=\"text-align: right;\">\n",
       "      <th></th>\n",
       "      <th>column_name</th>\n",
       "      <th>percent_missing</th>\n",
       "    </tr>\n",
       "  </thead>\n",
       "  <tbody>\n",
       "    <tr>\n",
       "      <th>date</th>\n",
       "      <td>date</td>\n",
       "      <td>0.000000</td>\n",
       "    </tr>\n",
       "    <tr>\n",
       "      <th>number_of_reviews</th>\n",
       "      <td>number_of_reviews</td>\n",
       "      <td>0.000000</td>\n",
       "    </tr>\n",
       "    <tr>\n",
       "      <th>price_x</th>\n",
       "      <td>price_x</td>\n",
       "      <td>0.000000</td>\n",
       "    </tr>\n",
       "    <tr>\n",
       "      <th>host_total_listings_count</th>\n",
       "      <td>host_total_listings_count</td>\n",
       "      <td>0.009844</td>\n",
       "    </tr>\n",
       "    <tr>\n",
       "      <th>beds</th>\n",
       "      <td>beds</td>\n",
       "      <td>0.039057</td>\n",
       "    </tr>\n",
       "    <tr>\n",
       "      <th>bedrooms</th>\n",
       "      <td>bedrooms</td>\n",
       "      <td>0.214330</td>\n",
       "    </tr>\n",
       "    <tr>\n",
       "      <th>bathrooms</th>\n",
       "      <td>bathrooms</td>\n",
       "      <td>0.513942</td>\n",
       "    </tr>\n",
       "    <tr>\n",
       "      <th>review_scores_rating</th>\n",
       "      <td>review_scores_rating</td>\n",
       "      <td>15.466079</td>\n",
       "    </tr>\n",
       "  </tbody>\n",
       "</table>\n",
       "</div>"
      ],
      "text/plain": [
       "                                         column_name  percent_missing\n",
       "date                                            date         0.000000\n",
       "number_of_reviews                  number_of_reviews         0.000000\n",
       "price_x                                      price_x         0.000000\n",
       "host_total_listings_count  host_total_listings_count         0.009844\n",
       "beds                                            beds         0.039057\n",
       "bedrooms                                    bedrooms         0.214330\n",
       "bathrooms                                  bathrooms         0.513942\n",
       "review_scores_rating            review_scores_rating        15.466079"
      ]
     },
     "execution_count": 27,
     "metadata": {},
     "output_type": "execute_result"
    }
   ],
   "source": [
    "#First check for nan's\n",
    "percent_missing = df.isnull().sum() * 100 / len(df)\n",
    "missing_value_df = pd.DataFrame({'column_name': df.columns,\n",
    "                                 'percent_missing': percent_missing})\n",
    "\n",
    "missing_value_df.sort_values('percent_missing', inplace=True)\n",
    "missing_value_df"
   ]
  },
  {
   "cell_type": "code",
   "execution_count": 28,
   "id": "138134a9",
   "metadata": {},
   "outputs": [],
   "source": [
    "#The following columns will all fill in nan with the mode\n",
    "cols = ['bathrooms','bedrooms','beds','host_total_listings_count']\n",
    "df[cols]=df[cols].fillna(df.mode().iloc[0])\n",
    "#Nan for review score will use the mean\n",
    "df['review_scores_rating'] = df['review_scores_rating'].fillna(df['review_scores_rating'].mean())\n",
    "#Convert date to datetime object, get the month, drop original date column\n",
    "df['date'] = pd.to_datetime(df['date'])\n",
    "df['month_of_date'] = df['date'].dt.month\n",
    "df = df.drop(columns = ['date'])\n",
    "#Convert price to a string, remove non nummerical values, delete original column\n",
    "df['price'] = df[['price_x']].astype(str)\n",
    "df['price'] = df[['price']].replace('[$, ]','',regex=True).astype(float)\n",
    "df = df.drop(columns = ['price_x'])\n",
    "#Trying some feature engineering I saw in a kaggle competition\n",
    "#It didn't add to much value to the model, but I thought it was nice to keep in\n",
    "df['engineered_review'] = df['number_of_reviews'] * df['review_scores_rating']\n",
    "df['engineered_review_2'] = df['number_of_reviews'] * df['review_scores_rating'] * df['review_scores_rating']"
   ]
  },
  {
   "cell_type": "markdown",
   "id": "c96a3ad8",
   "metadata": {},
   "source": [
    "# Section 4: Modeling"
   ]
  },
  {
   "cell_type": "code",
   "execution_count": 29,
   "id": "8c0a3315",
   "metadata": {},
   "outputs": [
    {
     "name": "stdout",
     "output_type": "stream",
     "text": [
      "Random Forest MSE train: 1168.812, test: 1215.468\n",
      "Random Forest R^2 train: 0.895, test: 0.888\n"
     ]
    }
   ],
   "source": [
    "#Split out our X and y variables and then create train test splits\n",
    "X = df.drop(columns='price')\n",
    "y = df[['price']]\n",
    "X_train, X_test, y_train, y_test = train_test_split(X, y, test_size=0.25, random_state=42) \n",
    "\n",
    "#It's always a good idea to scale your data\n",
    "sc = StandardScaler()\n",
    "X_train = sc.fit_transform(X_train) \n",
    "X_test = sc.transform(X_test) \n",
    "\n",
    "#Using a random forest regressor as this gave the best results\n",
    "reg = RandomForestRegressor(n_estimators=100,\n",
    "                            criterion='mse',\n",
    "                            random_state=42,\n",
    "                            n_jobs=-1)\n",
    "\n",
    "reg.fit(X_train,y_train.squeeze())\n",
    "\n",
    "#Getting the predicted values and seeing how well out model scored\n",
    "y_train_preds = reg.predict(X_train)\n",
    "y_test_preds = reg.predict(X_test)\n",
    "\n",
    "print('Random Forest MSE train: %.3f, test: %.3f' % (\n",
    "        mean_squared_error(y_train, y_train_preds),\n",
    "        mean_squared_error(y_test, y_test_preds)))\n",
    "print('Random Forest R^2 train: %.3f, test: %.3f' % (\n",
    "        r2_score(y_train, y_train_preds),\n",
    "        r2_score(y_test, y_test_preds)))"
   ]
  },
  {
   "cell_type": "markdown",
   "id": "363bdd6b",
   "metadata": {},
   "source": [
    "# Section 5: Evaluate the Results\n",
    "#### Question 1:Where- what locations are most popular"
   ]
  },
  {
   "cell_type": "code",
   "execution_count": 30,
   "id": "258a4d2c",
   "metadata": {},
   "outputs": [
    {
     "data": {
      "image/png": "[encoded data removed]",
      "text/plain": [
       "<Figure size 432x288 with 1 Axes>"
      ]
     },
     "metadata": {
      "needs_background": "light"
     },
     "output_type": "display_data"
    }
   ],
   "source": [
    "sns.barplot(x=top_areas.Neighbourhood,y=top_areas.Count,palette='Paired')\n",
    "\n",
    "plt.title('Most popular areas')\n",
    "plt.xticks(rotation=55)\n",
    "plt.tight_layout()\n",
    "plt.savefig('Neigh_count.png',dpi=300)\n",
    "plt.savefig('Neigh_count_jpg.jpg',dpi=300)"
   ]
  },
  {
   "cell_type": "code",
   "execution_count": 31,
   "id": "0672ef38",
   "metadata": {},
   "outputs": [],
   "source": [
    "#Captiol Hill is the most popular location in Seattle to rent"
   ]
  },
  {
   "cell_type": "markdown",
   "id": "b596e73f",
   "metadata": {},
   "source": [
    "#### Question 2:When- what time of the year is the busiest in Seattle"
   ]
  },
  {
   "cell_type": "code",
   "execution_count": 32,
   "id": "cdb6704a",
   "metadata": {},
   "outputs": [
    {
     "data": {
      "image/png": "[encoded data removed]",
      "text/plain": [
       "<Figure size 432x288 with 1 Axes>"
      ]
     },
     "metadata": {
      "needs_background": "light"
     },
     "output_type": "display_data"
    }
   ],
   "source": [
    "#Creating a boxplot to display the results\n",
    "sns.barplot(x=rev_freq.index,y=rev_freq.num_of_reviews,palette='Paired');\n",
    "\n",
    "plt.title('How often people book on AirBnB');\n",
    "plt.xticks(rotation=45);\n",
    "plt.tight_layout()\n",
    "plt.savefig('Seattle_time_review.png',dpi=300)\n",
    "plt.savefig('Seattle_time_review_jpg.jpg',dpi=300)"
   ]
  },
  {
   "cell_type": "code",
   "execution_count": 33,
   "id": "b833f73b",
   "metadata": {},
   "outputs": [],
   "source": [
    "#Summer months and winter holidays are the more popular vacation times. "
   ]
  },
  {
   "cell_type": "markdown",
   "id": "48d88434",
   "metadata": {},
   "source": [
    "#### Question 3:Cost- can we find some ways to get a little better value out of our rental"
   ]
  },
  {
   "cell_type": "code",
   "execution_count": 35,
   "id": "3cd3757d",
   "metadata": {},
   "outputs": [
    {
     "data": {
      "image/png": "[encoded data removed]",
      "text/plain": [
       "<Figure size 432x288 with 1 Axes>"
      ]
     },
     "metadata": {
      "needs_background": "light"
     },
     "output_type": "display_data"
    }
   ],
   "source": [
    "#To visiualize the important porameters I need to get them in a dataframe\n",
    "headers = [\"name\", \"score\"]\n",
    "values = sorted(zip(X.columns, reg.feature_importances_), key=lambda x: x[1] * -1)\n",
    "important_features = pd.DataFrame(values, columns = headers)\n",
    "important_features = important_features.sort_values(by = ['score'], ascending = False)\n",
    "\n",
    "#Now to graph the results\n",
    "sns.barplot(x=important_features.name,y=important_features.score,palette='Paired')\n",
    "\n",
    "plt.title('Important Features, ranked')\n",
    "plt.xticks(rotation=80)\n",
    "plt.tight_layout()\n",
    "plt.savefig('Important_Features.png',dpi=300)\n",
    "plt.savefig('Important_Features_jpg.jpg',dpi=300)"
   ]
  },
  {
   "cell_type": "code",
   "execution_count": null,
   "id": "0502ae99",
   "metadata": {},
   "outputs": [],
   "source": [
    "#The number of bedrooms and bathrooms are the most significant factors in price. \n",
    "#This is likely due to the correlation to them and the size of the rental. "
   ]
  }
 ],
 "metadata": {
  "kernelspec": {
   "display_name": "Python 3",
   "language": "python",
   "name": "python3"
  },
  "language_info": {
   "codemirror_mode": {
    "name": "ipython",
    "version": 3
   },
   "file_extension": ".py",
   "mimetype": "text/x-python",
   "name": "python",
   "nbconvert_exporter": "python",
   "pygments_lexer": "ipython3",
   "version": "3.8.8"
  }
 },
 "nbformat": 4,
 "nbformat_minor": 5
}

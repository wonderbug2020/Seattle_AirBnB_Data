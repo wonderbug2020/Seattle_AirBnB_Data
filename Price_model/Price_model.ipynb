{
 "cells": [
  {
   "cell_type": "code",
   "execution_count": 1,
   "id": "bb1e2e8a",
   "metadata": {},
   "outputs": [],
   "source": [
    "#Import libraries\n",
    "import pandas as pd\n",
    "import numpy as np\n",
    "import matplotlib.pyplot as plt\n",
    "import seaborn as sns\n",
    "%matplotlib inline\n",
    "\n",
    "from sklearn.model_selection import train_test_split \n",
    "from sklearn.preprocessing import StandardScaler \n",
    "from sklearn.ensemble import RandomForestRegressor\n",
    "from sklearn.metrics import mean_squared_error\n",
    "from sklearn.metrics import r2_score"
   ]
  },
  {
   "cell_type": "code",
   "execution_count": 2,
   "id": "5ad0c7ca",
   "metadata": {},
   "outputs": [],
   "source": [
    "#The goal is to build a machine learning model to be used to predict the price\n",
    "#However, this is so a user can tell from just the app if the price is a good value\n",
    "#This means the columns will be limited to data readily available on the app.\n",
    "#I am also going to remove descriptive text, like summary for example\n",
    "#Adding this to a model is beyond thhe scope of this project"
   ]
  },
  {
   "cell_type": "code",
   "execution_count": 3,
   "id": "7be79bf0",
   "metadata": {},
   "outputs": [],
   "source": [
    "#Import calendar and listings df\n",
    "calendar_df = pd.read_csv('../Data/calendar.csv')\n",
    "listings_df = pd.read_csv('../Data/listings.csv')\n",
    "\n",
    "#Change index to allow merging\n",
    "listings_df = listings_df.rename(index=str, columns={'id': 'listing_id'})\n",
    "#And then merge\n",
    "combined_df = pd.merge(calendar_df, listings_df, on = 'listing_id')\n",
    "\n",
    "#Now to drop all the rows that do not have a price_x as this is our predictor\n",
    "combined_df = combined_df.dropna(subset=['price_x'])\n",
    "\n",
    "#Create a new dataframe of just the values I can use \n",
    "df = combined_df[['bathrooms','bedrooms','beds','date','host_total_listings_count',\n",
    "                  'number_of_reviews','review_scores_rating','price_x']].copy()"
   ]
  },
  {
   "cell_type": "code",
   "execution_count": 4,
   "id": "de198797",
   "metadata": {},
   "outputs": [],
   "source": [
    "#Now for some basica analysis to see what kind of cleaning we need to do"
   ]
  },
  {
   "cell_type": "code",
   "execution_count": 5,
   "id": "efcab0a5",
   "metadata": {},
   "outputs": [
    {
     "data": {
      "text/html": [
       "<div>\n",
       "<style scoped>\n",
       "    .dataframe tbody tr th:only-of-type {\n",
       "        vertical-align: middle;\n",
       "    }\n",
       "\n",
       "    .dataframe tbody tr th {\n",
       "        vertical-align: top;\n",
       "    }\n",
       "\n",
       "    .dataframe thead th {\n",
       "        text-align: right;\n",
       "    }\n",
       "</style>\n",
       "<table border=\"1\" class=\"dataframe\">\n",
       "  <thead>\n",
       "    <tr style=\"text-align: right;\">\n",
       "      <th></th>\n",
       "      <th>column_name</th>\n",
       "      <th>percent_missing</th>\n",
       "    </tr>\n",
       "  </thead>\n",
       "  <tbody>\n",
       "    <tr>\n",
       "      <th>date</th>\n",
       "      <td>date</td>\n",
       "      <td>0.000000</td>\n",
       "    </tr>\n",
       "    <tr>\n",
       "      <th>number_of_reviews</th>\n",
       "      <td>number_of_reviews</td>\n",
       "      <td>0.000000</td>\n",
       "    </tr>\n",
       "    <tr>\n",
       "      <th>price_x</th>\n",
       "      <td>price_x</td>\n",
       "      <td>0.000000</td>\n",
       "    </tr>\n",
       "    <tr>\n",
       "      <th>host_total_listings_count</th>\n",
       "      <td>host_total_listings_count</td>\n",
       "      <td>0.009844</td>\n",
       "    </tr>\n",
       "    <tr>\n",
       "      <th>beds</th>\n",
       "      <td>beds</td>\n",
       "      <td>0.039057</td>\n",
       "    </tr>\n",
       "    <tr>\n",
       "      <th>bedrooms</th>\n",
       "      <td>bedrooms</td>\n",
       "      <td>0.214330</td>\n",
       "    </tr>\n",
       "    <tr>\n",
       "      <th>bathrooms</th>\n",
       "      <td>bathrooms</td>\n",
       "      <td>0.513942</td>\n",
       "    </tr>\n",
       "    <tr>\n",
       "      <th>review_scores_rating</th>\n",
       "      <td>review_scores_rating</td>\n",
       "      <td>15.466079</td>\n",
       "    </tr>\n",
       "  </tbody>\n",
       "</table>\n",
       "</div>"
      ],
      "text/plain": [
       "                                         column_name  percent_missing\n",
       "date                                            date         0.000000\n",
       "number_of_reviews                  number_of_reviews         0.000000\n",
       "price_x                                      price_x         0.000000\n",
       "host_total_listings_count  host_total_listings_count         0.009844\n",
       "beds                                            beds         0.039057\n",
       "bedrooms                                    bedrooms         0.214330\n",
       "bathrooms                                  bathrooms         0.513942\n",
       "review_scores_rating            review_scores_rating        15.466079"
      ]
     },
     "execution_count": 5,
     "metadata": {},
     "output_type": "execute_result"
    }
   ],
   "source": [
    "#First check for nan's\n",
    "percent_missing = df.isnull().sum() * 100 / len(df)\n",
    "missing_value_df = pd.DataFrame({'column_name': df.columns,\n",
    "                                 'percent_missing': percent_missing})\n",
    "\n",
    "missing_value_df.sort_values('percent_missing', inplace=True)\n",
    "missing_value_df"
   ]
  },
  {
   "cell_type": "code",
   "execution_count": 6,
   "id": "b2e71e5b",
   "metadata": {},
   "outputs": [
    {
     "data": {
      "text/plain": [
       "bathrooms                    float64\n",
       "bedrooms                     float64\n",
       "beds                         float64\n",
       "date                          object\n",
       "host_total_listings_count    float64\n",
       "number_of_reviews              int64\n",
       "review_scores_rating         float64\n",
       "price_x                       object\n",
       "dtype: object"
      ]
     },
     "execution_count": 6,
     "metadata": {},
     "output_type": "execute_result"
    }
   ],
   "source": [
    "#Then to check the format of the columns data\n",
    "df.dtypes"
   ]
  },
  {
   "cell_type": "code",
   "execution_count": 7,
   "id": "413978c2",
   "metadata": {},
   "outputs": [],
   "source": [
    "#checklist\n",
    "#1.Bathrooms, Bedrooms, and beds have some missing values. Simple thing is to replace with the mode\n",
    "#2.host_total_listings_count, is missing less than 1%, take the mode\n",
    "#3.review_scores_rating is missing quite a few values, will just take the mean\n",
    "#4.number_of_reviews does not need any changes\n",
    "#5.date has no missing values. nothing directly needs to be done\n",
    "#6.Price needs to be converted to float and renamed\n",
    "#6.create a new value that has the month extracted from date\n",
    "#7.create a new value that is number of reviews * review scores rating"
   ]
  },
  {
   "cell_type": "code",
   "execution_count": 8,
   "id": "28d40e5a",
   "metadata": {},
   "outputs": [],
   "source": [
    "#The following columns will all fill in nan with the mode\n",
    "cols = ['bathrooms','bedrooms','beds','host_total_listings_count']\n",
    "df[cols]=df[cols].fillna(df.mode().iloc[0])\n",
    "#Nan for review score will use the mean\n",
    "df['review_scores_rating'] = df['review_scores_rating'].fillna(df['review_scores_rating'].mean())\n",
    "#Convert date to datetime object, get the month, drop original date column\n",
    "df['date'] = pd.to_datetime(df['date'])\n",
    "df['month_of_date'] = df['date'].dt.month\n",
    "df = df.drop(columns = ['date'])\n",
    "#Convert price to a string, remove non nummerical values, delete original column\n",
    "df['price'] = df[['price_x']].astype(str)\n",
    "df['price'] = df[['price']].replace('[$, ]','',regex=True).astype(float)\n",
    "df = df.drop(columns = ['price_x'])\n",
    "#Trying some feature engineering I saw in a kaggle competition\n",
    "#It didn't add to much value to the model, but I thought it was nice to keep in\n",
    "df['engineered_review'] = df['number_of_reviews'] * df['review_scores_rating']\n",
    "df['engineered_review_2'] = df['number_of_reviews'] * df['review_scores_rating'] * df['review_scores_rating']"
   ]
  },
  {
   "cell_type": "code",
   "execution_count": 9,
   "id": "9fee0b00",
   "metadata": {},
   "outputs": [],
   "source": [
    "#Now to build and run the model"
   ]
  },
  {
   "cell_type": "code",
   "execution_count": 10,
   "id": "c4637c09",
   "metadata": {},
   "outputs": [],
   "source": [
    "#Split out our X and y variables and then create train test splits\n",
    "X = df.drop(columns='price')\n",
    "y = df[['price']]\n",
    "\n",
    "X_train, X_test, y_train, y_test = train_test_split(X, y, test_size=0.25, random_state=42) "
   ]
  },
  {
   "cell_type": "code",
   "execution_count": 11,
   "id": "7a688b46",
   "metadata": {},
   "outputs": [],
   "source": [
    "#It's always a good idea to scale your data\n",
    "sc = StandardScaler()\n",
    "X_train = sc.fit_transform(X_train) \n",
    "X_test = sc.transform(X_test) "
   ]
  },
  {
   "cell_type": "code",
   "execution_count": null,
   "id": "9340d605",
   "metadata": {},
   "outputs": [],
   "source": [
    "#Using a random forest regressor as this gave the best results\n",
    "reg = RandomForestRegressor(n_estimators=100,\n",
    "                            criterion='mse',\n",
    "                            random_state=42,\n",
    "                            n_jobs=-1)\n",
    "\n",
    "reg.fit(X_train,y_train.squeeze())"
   ]
  },
  {
   "cell_type": "code",
   "execution_count": null,
   "id": "6fa8a082",
   "metadata": {},
   "outputs": [],
   "source": [
    "#Gettin g the predicted values and seeing how well out model scored\n",
    "y_train_preds = reg.predict(X_train)\n",
    "y_test_preds = reg.predict(X_test)\n",
    "\n",
    "print('Random Forest MSE train: %.3f, test: %.3f' % (\n",
    "        mean_squared_error(y_train, y_train_preds),\n",
    "        mean_squared_error(y_test, y_test_preds)))\n",
    "print('Random Forest R^2 train: %.3f, test: %.3f' % (\n",
    "        r2_score(y_train, y_train_preds),\n",
    "        r2_score(y_test, y_test_preds)))"
   ]
  },
  {
   "cell_type": "code",
   "execution_count": null,
   "id": "018557fb",
   "metadata": {},
   "outputs": [],
   "source": [
    "#This wasn't the best performing model, but considering the limitations I put in place, it will do"
   ]
  },
  {
   "cell_type": "code",
   "execution_count": null,
   "id": "0d5312ed",
   "metadata": {},
   "outputs": [],
   "source": [
    "#To visiualize the important porameters I need to get them in a dataframe\n",
    "headers = [\"name\", \"score\"]\n",
    "values = sorted(zip(X.columns, reg.feature_importances_), key=lambda x: x[1] * -1)\n",
    "important_features = pd.DataFrame(values, columns = headers)\n",
    "important_features = important_features.sort_values(by = ['score'], ascending = False)"
   ]
  },
  {
   "cell_type": "code",
   "execution_count": null,
   "id": "559a632f",
   "metadata": {},
   "outputs": [],
   "source": [
    "#Now to graph the results\n",
    "sns.barplot(x=important_features.name,y=important_features.score,palette='Paired')\n",
    "\n",
    "plt.title('Important Features, ranked')\n",
    "plt.xticks(rotation=80)\n",
    "plt.tight_layout()\n",
    "plt.savefig('Important_Features.png',dpi=300)\n",
    "plt.savefig('Important_Features_jpg.jpg',dpi=300)"
   ]
  },
  {
   "cell_type": "code",
   "execution_count": null,
   "id": "06999e78",
   "metadata": {},
   "outputs": [],
   "source": [
    "#The number of bedrooms and bathrooms are the most significant factors in price. \n",
    "#This is likely due to the correlation to them and the size of the rental. "
   ]
  }
 ],
 "metadata": {
  "kernelspec": {
   "display_name": "Python 3",
   "language": "python",
   "name": "python3"
  },
  "language_info": {
   "codemirror_mode": {
    "name": "ipython",
    "version": 3
   },
   "file_extension": ".py",
   "mimetype": "text/x-python",
   "name": "python",
   "nbconvert_exporter": "python",
   "pygments_lexer": "ipython3",
   "version": "3.8.8"
  }
 },
 "nbformat": 4,
 "nbformat_minor": 5
}

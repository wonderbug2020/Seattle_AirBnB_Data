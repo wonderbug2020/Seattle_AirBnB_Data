{
 "cells": [
  {
   "cell_type": "code",
   "execution_count": null,
   "id": "455e6a34",
   "metadata": {},
   "outputs": [],
   "source": [
    "#The goal is to build a machine learning model to be used to predict the price\n",
    "#However, this is so a user can tell from just the app if the price is a good value\n",
    "#This means the columns will be limited to data readily available on the app.\n",
    "#I am also going to remove descriptive text, like summary fopr example\n",
    "#Adding this to a model is beyond thhe scope of this project"
   ]
  },
  {
   "cell_type": "code",
   "execution_count": 1,
   "id": "46754c64",
   "metadata": {},
   "outputs": [],
   "source": [
    "#Import libraries\n",
    "import pandas as pd\n",
    "import numpy as np\n",
    "import matplotlib.pyplot as plt\n",
    "%matplotlib inline"
   ]
  },
  {
   "cell_type": "code",
   "execution_count": 2,
   "id": "11131ee6",
   "metadata": {},
   "outputs": [],
   "source": [
    "#Import calendar and listings df\n",
    "calendar_df = pd.read_csv('../Data/calendar.csv')\n",
    "listings_df = pd.read_csv('../Data/listings.csv')"
   ]
  },
  {
   "cell_type": "code",
   "execution_count": 3,
   "id": "3c7dd3ba",
   "metadata": {},
   "outputs": [],
   "source": [
    "#Change index to allow merging\n",
    "listings_df = listings_df.rename(index=str, columns={'id': 'listing_id'})\n",
    "#And then merge\n",
    "combined_df = pd.merge(calendar_df, listings_df, on = 'listing_id')"
   ]
  },
  {
   "cell_type": "code",
   "execution_count": 4,
   "id": "06503a49",
   "metadata": {},
   "outputs": [],
   "source": [
    "#Now to drop all the rows that do not have a price_x as this is our predictor\n",
    "combined_df = combined_df.dropna(subset=['price_x'])"
   ]
  },
  {
   "cell_type": "code",
   "execution_count": 5,
   "id": "21760db6",
   "metadata": {},
   "outputs": [],
   "source": [
    "#Create a new dataframe of just the values I can use \n",
    "df = combined_df[['bathrooms','bedrooms','beds','date','host_total_listings_count',\n",
    "                  'number_of_reviews','review_scores_rating','price_x']].copy()"
   ]
  },
  {
   "cell_type": "code",
   "execution_count": 6,
   "id": "defb13bb",
   "metadata": {},
   "outputs": [
    {
     "data": {
      "text/html": [
       "<div>\n",
       "<style scoped>\n",
       "    .dataframe tbody tr th:only-of-type {\n",
       "        vertical-align: middle;\n",
       "    }\n",
       "\n",
       "    .dataframe tbody tr th {\n",
       "        vertical-align: top;\n",
       "    }\n",
       "\n",
       "    .dataframe thead th {\n",
       "        text-align: right;\n",
       "    }\n",
       "</style>\n",
       "<table border=\"1\" class=\"dataframe\">\n",
       "  <thead>\n",
       "    <tr style=\"text-align: right;\">\n",
       "      <th></th>\n",
       "      <th>column_name</th>\n",
       "      <th>percent_missing</th>\n",
       "    </tr>\n",
       "  </thead>\n",
       "  <tbody>\n",
       "    <tr>\n",
       "      <th>date</th>\n",
       "      <td>date</td>\n",
       "      <td>0.000000</td>\n",
       "    </tr>\n",
       "    <tr>\n",
       "      <th>number_of_reviews</th>\n",
       "      <td>number_of_reviews</td>\n",
       "      <td>0.000000</td>\n",
       "    </tr>\n",
       "    <tr>\n",
       "      <th>price_x</th>\n",
       "      <td>price_x</td>\n",
       "      <td>0.000000</td>\n",
       "    </tr>\n",
       "    <tr>\n",
       "      <th>host_total_listings_count</th>\n",
       "      <td>host_total_listings_count</td>\n",
       "      <td>0.009844</td>\n",
       "    </tr>\n",
       "    <tr>\n",
       "      <th>beds</th>\n",
       "      <td>beds</td>\n",
       "      <td>0.039057</td>\n",
       "    </tr>\n",
       "    <tr>\n",
       "      <th>bedrooms</th>\n",
       "      <td>bedrooms</td>\n",
       "      <td>0.214330</td>\n",
       "    </tr>\n",
       "    <tr>\n",
       "      <th>bathrooms</th>\n",
       "      <td>bathrooms</td>\n",
       "      <td>0.513942</td>\n",
       "    </tr>\n",
       "    <tr>\n",
       "      <th>review_scores_rating</th>\n",
       "      <td>review_scores_rating</td>\n",
       "      <td>15.466079</td>\n",
       "    </tr>\n",
       "  </tbody>\n",
       "</table>\n",
       "</div>"
      ],
      "text/plain": [
       "                                         column_name  percent_missing\n",
       "date                                            date         0.000000\n",
       "number_of_reviews                  number_of_reviews         0.000000\n",
       "price_x                                      price_x         0.000000\n",
       "host_total_listings_count  host_total_listings_count         0.009844\n",
       "beds                                            beds         0.039057\n",
       "bedrooms                                    bedrooms         0.214330\n",
       "bathrooms                                  bathrooms         0.513942\n",
       "review_scores_rating            review_scores_rating        15.466079"
      ]
     },
     "execution_count": 6,
     "metadata": {},
     "output_type": "execute_result"
    }
   ],
   "source": [
    "percent_missing = df.isnull().sum() * 100 / len(df)\n",
    "missing_value_df = pd.DataFrame({'column_name': df.columns,\n",
    "                                 'percent_missing': percent_missing})\n",
    "\n",
    "missing_value_df.sort_values('percent_missing', inplace=True)\n",
    "missing_value_df"
   ]
  },
  {
   "cell_type": "code",
   "execution_count": 7,
   "id": "fa3199bf",
   "metadata": {},
   "outputs": [
    {
     "data": {
      "text/plain": [
       "bathrooms                    float64\n",
       "bedrooms                     float64\n",
       "beds                         float64\n",
       "date                          object\n",
       "host_total_listings_count    float64\n",
       "number_of_reviews              int64\n",
       "review_scores_rating         float64\n",
       "price_x                       object\n",
       "dtype: object"
      ]
     },
     "execution_count": 7,
     "metadata": {},
     "output_type": "execute_result"
    }
   ],
   "source": [
    "df.dtypes"
   ]
  },
  {
   "cell_type": "code",
   "execution_count": 8,
   "id": "92cec2a0",
   "metadata": {},
   "outputs": [],
   "source": [
    "#checklist\n",
    "#1.Bathrooms, Bedrooms, and beds have some missing values. Simple thing is to replace with the mode\n",
    "#2.host_total_listings_count, is missing less than 1%, take the mode\n",
    "#3.review_scores_rating is missing quite a few values, will just take the mean\n",
    "#4.number_of_reviews does not need any changes\n",
    "#5.date has no mising values. nothing directly needs to be done\n",
    "#6.Price needs to be converted to float and renamed\n",
    "#6.create a new value that has the month extracted from date\n",
    "#7.create a new value that is number of reviews * review scores rating"
   ]
  },
  {
   "cell_type": "code",
   "execution_count": 9,
   "id": "209a2ea9",
   "metadata": {},
   "outputs": [],
   "source": [
    "cols = ['bathrooms','bedrooms','beds','host_total_listings_count']\n",
    "df[cols]=df[cols].fillna(df.mode().iloc[0])\n",
    "df['review_scores_rating'] = df['review_scores_rating'].fillna(df['review_scores_rating'].mean())\n",
    "df['date'] = pd.to_datetime(df['date'])\n",
    "df['month_of_date'] = df['date'].dt.month\n",
    "df['price'] = df[['price_x']].astype(str)\n",
    "df['price'] = df[['price']].replace('[$, ]','',regex=True).astype(float)\n",
    "df['engineered_review'] = df['number_of_reviews'] * df['review_scores_rating']\n",
    "df['engineered_review_2'] = df['number_of_reviews'] * df['review_scores_rating'] * df['review_scores_rating']\n",
    "df = df.drop(columns = ['date'])\n",
    "df = df.drop(columns = ['price_x'])"
   ]
  },
  {
   "cell_type": "code",
   "execution_count": 10,
   "id": "9e44f62f",
   "metadata": {},
   "outputs": [],
   "source": [
    "X = df.drop(columns='price')\n",
    "y = df[['price']]\n",
    "\n",
    "from sklearn.model_selection import train_test_split \n",
    "\n",
    "X_train, X_test, y_train, y_test = train_test_split(X, y, test_size=0.25, random_state=42) "
   ]
  },
  {
   "cell_type": "code",
   "execution_count": 11,
   "id": "ae2d577d",
   "metadata": {},
   "outputs": [],
   "source": [
    "from sklearn.preprocessing import StandardScaler \n",
    "\n",
    "sc = StandardScaler() \n",
    "\n",
    "X_train = sc.fit_transform(X_train) \n",
    "\n",
    "X_test = sc.transform(X_test) "
   ]
  },
  {
   "cell_type": "code",
   "execution_count": 12,
   "id": "66ea7b54",
   "metadata": {},
   "outputs": [],
   "source": [
    "from sklearn.ensemble import RandomForestRegressor\n",
    "reg = RandomForestRegressor(n_estimators=100,\n",
    "                            criterion='mse',\n",
    "                            random_state=42,\n",
    "                            n_jobs=-1)\n",
    "\n",
    "reg.fit(X_train,y_train.squeeze())\n",
    "\n",
    "y_train_preds = reg.predict(X_train)\n",
    "y_test_preds = reg.predict(X_test)"
   ]
  },
  {
   "cell_type": "code",
   "execution_count": 13,
   "id": "09cef703",
   "metadata": {},
   "outputs": [
    {
     "name": "stdout",
     "output_type": "stream",
     "text": [
      "Random Forest MSE train: 1168.812, test: 1215.468\n",
      "Random Forest R^2 train: 0.895, test: 0.888\n"
     ]
    }
   ],
   "source": [
    "from sklearn.metrics import mean_squared_error\n",
    "from sklearn.metrics import r2_score\n",
    "\n",
    "print('Random Forest MSE train: %.3f, test: %.3f' % (\n",
    "        mean_squared_error(y_train, y_train_preds),\n",
    "        mean_squared_error(y_test, y_test_preds)))\n",
    "print('Random Forest R^2 train: %.3f, test: %.3f' % (\n",
    "        r2_score(y_train, y_train_preds),\n",
    "        r2_score(y_test, y_test_preds)))"
   ]
  },
  {
   "cell_type": "code",
   "execution_count": 14,
   "id": "fe3fbc19",
   "metadata": {},
   "outputs": [
    {
     "data": {
      "image/png": "[encoded data removed]",
      "text/plain": [
       "<Figure size 720x360 with 1 Axes>"
      ]
     },
     "metadata": {
      "needs_background": "light"
     },
     "output_type": "display_data"
    }
   ],
   "source": [
    "headers = [\"name\", \"score\"]\n",
    "values = sorted(zip(X.columns, reg.feature_importances_), key=lambda x: x[1] * -1)\n",
    "forest_feature_importances = pd.DataFrame(values, columns = headers)\n",
    "forest_feature_importances = forest_feature_importances.sort_values(by = ['score'], ascending = False)\n",
    "\n",
    "features = forest_feature_importances['name'][:15]\n",
    "y_pos = np.arange(len(features))\n",
    "scores = forest_feature_importances['score'][:15]\n",
    "\n",
    "#plot feature importances\n",
    "plt.figure(figsize=(10,5))\n",
    "plt.bar(y_pos, scores, align='center', alpha=0.5)\n",
    "plt.xticks(y_pos, features, rotation='vertical')\n",
    "plt.ylabel('Score')\n",
    "plt.xlabel('Features')\n",
    "plt.title('Feature importances (Random Forest)')\n",
    "\n",
    "plt.savefig('feature importances RF.png')\n",
    " \n",
    "plt.show()"
   ]
  },
  {
   "cell_type": "code",
   "execution_count": 18,
   "id": "93c80fab",
   "metadata": {},
   "outputs": [
    {
     "name": "stdout",
     "output_type": "stream",
     "text": [
      "MSE train: 2239.610, test: 2248.372\n",
      "R^2 train: 0.798, test: 0.793\n"
     ]
    }
   ],
   "source": [
    "import xgboost\n",
    "xgb = xgboost.XGBRegressor(n_estimators=100, learning_rate=0.08, gamma=0, subsample=0.75,\n",
    "                           colsample_bytree=1, max_depth=7)\n",
    "\n",
    "xgb.fit(X_train,y_train)\n",
    "\n",
    "y_train_preds = xgb.predict(X_train)\n",
    "y_test_preds = xgb.predict(X_test)\n",
    "\n",
    "print('MSE train: %.3f, test: %.3f' % (\n",
    "        mean_squared_error(y_train, y_train_preds),\n",
    "        mean_squared_error(y_test, y_test_preds)))\n",
    "print('R^2 train: %.3f, test: %.3f' % (\n",
    "        r2_score(y_train, y_train_preds),\n",
    "        r2_score(y_test, y_test_preds)))"
   ]
  },
  {
   "cell_type": "code",
   "execution_count": 20,
   "id": "f5d0f007",
   "metadata": {},
   "outputs": [
    {
     "data": {
      "image/png": "[encoded data removed]",
      "text/plain": [
       "<Figure size 720x360 with 1 Axes>"
      ]
     },
     "metadata": {
      "needs_background": "light"
     },
     "output_type": "display_data"
    }
   ],
   "source": [
    "#get feature importances from the model\n",
    "headers = [\"name\", \"score\"]\n",
    "values = sorted(zip(X.columns, xgb.feature_importances_), key=lambda x: x[1] * -1)\n",
    "xgb_feature_importances = pd.DataFrame(values, columns = headers)\n",
    "\n",
    "#plot feature importances for top 15 features\n",
    "features = xgb_feature_importances['name'][:15]\n",
    "y_pos = np.arange(len(features))\n",
    "scores = xgb_feature_importances['score'][:15]\n",
    " \n",
    "plt.figure(figsize=(10,5))\n",
    "plt.bar(y_pos, scores, align='center', alpha=0.5)\n",
    "plt.xticks(y_pos, features, rotation='vertical')\n",
    "plt.ylabel('Score')\n",
    "plt.xlabel('Features')\n",
    "plt.title('Feature importances (XGBoost)')\n",
    "\n",
    "plt.savefig('feature importances XGB.png')\n",
    " \n",
    "plt.show()"
   ]
  },
  {
   "cell_type": "code",
   "execution_count": null,
   "id": "0c134296",
   "metadata": {},
   "outputs": [],
   "source": []
  },
  {
   "cell_type": "code",
   "execution_count": null,
   "id": "9386f781",
   "metadata": {},
   "outputs": [],
   "source": [
    "df.sample(5)"
   ]
  },
  {
   "cell_type": "code",
   "execution_count": null,
   "id": "6e7d0836",
   "metadata": {},
   "outputs": [],
   "source": [
    "df['host_total_listings_count'].describe()"
   ]
  },
  {
   "cell_type": "code",
   "execution_count": null,
   "id": "c33dbb3e",
   "metadata": {},
   "outputs": [],
   "source": []
  }
 ],
 "metadata": {
  "kernelspec": {
   "display_name": "Python 3",
   "language": "python",
   "name": "python3"
  },
  "language_info": {
   "codemirror_mode": {
    "name": "ipython",
    "version": 3
   },
   "file_extension": ".py",
   "mimetype": "text/x-python",
   "name": "python",
   "nbconvert_exporter": "python",
   "pygments_lexer": "ipython3",
   "version": "3.8.8"
  }
 },
 "nbformat": 4,
 "nbformat_minor": 5
}

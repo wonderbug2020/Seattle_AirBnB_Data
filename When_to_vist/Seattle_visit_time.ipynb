{
 "cells": [
  {
   "cell_type": "code",
   "execution_count": 1,
   "id": "6e785505",
   "metadata": {},
   "outputs": [],
   "source": [
    "import pandas as pd\n",
    "import matplotlib.pyplot as plt\n",
    "import seaborn as sns\n",
    "%matplotlib inline"
   ]
  },
  {
   "cell_type": "code",
   "execution_count": null,
   "id": "9cbf14dd",
   "metadata": {},
   "outputs": [],
   "source": [
    "#In this not book we are going to analyse when the busiest times of the year are to visit Seattle\n",
    "#First we will load in the data to a pandas dataframe\n",
    "#next filtering out unneeded columns and select for the year 2015, then add a month column\n",
    "#We then create a new dataframe that is the count of reviews by month\n",
    "#Finally we display this information in a graph"
   ]
  },
  {
   "cell_type": "code",
   "execution_count": 2,
   "id": "e4852149",
   "metadata": {},
   "outputs": [],
   "source": [
    "#Loading in the data\n",
    "reviews_df = pd.read_csv('../Data/reviews.csv',parse_dates=['date'])\n",
    "#Grab only the needed columns\n",
    "rev = reviews_df[['listing_id','date']]\n",
    "#Filering for only 2015 as this is the most recent, complete year in the data\n",
    "rev = rev[rev['date'].dt.year == 2015]\n",
    "#add a column for which month it is\n",
    "rev['Month'] = rev['date'].dt.strftime('%b')"
   ]
  },
  {
   "cell_type": "code",
   "execution_count": 3,
   "id": "ca922aff",
   "metadata": {},
   "outputs": [],
   "source": [
    "#Creating a new dataframe to make the graph from\n",
    "rev_freq = pd.DataFrame(rev['Month'].value_counts().values,\n",
    "                        index=rev['Month'].value_counts().index,\n",
    "                        columns=['num_of_reviews'])\n",
    "\n",
    "rev_freq.index.name = 'Month'\n",
    "\n",
    "#Rearranging the ordedr to be chronological \n",
    "new_order = ['Jan', 'Feb', 'Mar', 'Apr', 'May', 'Jun', 'Jul', 'Aug', 'Sep', 'Oct', 'Nov', 'Dec']\n",
    "rev_freq = rev_freq.reindex(new_order, axis=0)"
   ]
  },
  {
   "cell_type": "code",
   "execution_count": 4,
   "id": "37f9e4fd",
   "metadata": {},
   "outputs": [
    {
     "data": {
      "image/png": "[encoded data removed]",
      "text/plain": [
       "<Figure size 432x288 with 1 Axes>"
      ]
     },
     "metadata": {
      "needs_background": "light"
     },
     "output_type": "display_data"
    }
   ],
   "source": [
    "#Creating a boxplot to display the results\n",
    "sns.barplot(x=rev_freq.index,y=rev_freq.num_of_reviews,palette='Paired');\n",
    "\n",
    "plt.title('How often people book on AirBnB');\n",
    "plt.xticks(rotation=45);\n",
    "plt.tight_layout()\n",
    "plt.savefig('Seattle_time_review.png',dpi=300)\n",
    "plt.savefig('Seattle_time_review_jpg.jpg',dpi=300)"
   ]
  },
  {
   "cell_type": "code",
   "execution_count": null,
   "id": "a7a627a2",
   "metadata": {},
   "outputs": [],
   "source": []
  },
  {
   "cell_type": "code",
   "execution_count": null,
   "id": "0c4720e6",
   "metadata": {},
   "outputs": [],
   "source": []
  },
  {
   "cell_type": "code",
   "execution_count": null,
   "id": "1a9107b9",
   "metadata": {},
   "outputs": [],
   "source": []
  },
  {
   "cell_type": "code",
   "execution_count": null,
   "id": "339598a3",
   "metadata": {},
   "outputs": [],
   "source": []
  }
 ],
 "metadata": {
  "kernelspec": {
   "display_name": "Python 3",
   "language": "python",
   "name": "python3"
  },
  "language_info": {
   "codemirror_mode": {
    "name": "ipython",
    "version": 3
   },
   "file_extension": ".py",
   "mimetype": "text/x-python",
   "name": "python",
   "nbconvert_exporter": "python",
   "pygments_lexer": "ipython3",
   "version": "3.8.8"
  }
 },
 "nbformat": 4,
 "nbformat_minor": 5
}

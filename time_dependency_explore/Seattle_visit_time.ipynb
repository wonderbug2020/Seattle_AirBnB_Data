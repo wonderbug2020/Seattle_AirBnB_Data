{
 "cells": [
  {
   "cell_type": "code",
   "execution_count": 1,
   "id": "5c0c45a0",
   "metadata": {},
   "outputs": [],
   "source": [
    "import pandas as pd\n",
    "import matplotlib.pyplot as plt\n",
    "import seaborn as sns\n",
    "%matplotlib inline"
   ]
  },
  {
   "cell_type": "code",
   "execution_count": 2,
   "id": "f49c377f",
   "metadata": {},
   "outputs": [],
   "source": [
    "#Loading in the data\n",
    "reviews_df = pd.read_csv('../Data/reviews.csv',parse_dates=['date'])\n",
    "#Grab only the needed columns\n",
    "rev = reviews_df[['listing_id','date']]\n",
    "#Filering for only 2015 as this is the most recent, complete year in the data\n",
    "rev = rev[rev['date'].dt.year == 2015]\n",
    "#add a column for which month it is\n",
    "rev['Month'] = rev['date'].dt.strftime('%b')"
   ]
  },
  {
   "cell_type": "code",
   "execution_count": 3,
   "id": "48693574",
   "metadata": {},
   "outputs": [],
   "source": [
    "rev_freq = pd.DataFrame(rev['Month'].value_counts().values,\n",
    "                        index=rev['Month'].value_counts().index,\n",
    "                        columns=['num_of_reviews'])\n",
    "\n",
    "rev_freq.index.name = 'Month'"
   ]
  },
  {
   "cell_type": "code",
   "execution_count": 4,
   "id": "7b7fe86a",
   "metadata": {},
   "outputs": [],
   "source": [
    "new_order = ['Jan', 'Feb', 'Mar', 'Apr', 'May', 'Jun', 'Jul', 'Aug', 'Sep', 'Oct', 'Nov', 'Dec']\n",
    "\n",
    "rev_freq = rev_freq.reindex(new_order, axis=0)"
   ]
  },
  {
   "cell_type": "code",
   "execution_count": 30,
   "id": "62de431d",
   "metadata": {},
   "outputs": [
    {
     "data": {
      "image/png": "[encoded data removed]",
      "text/plain": [
       "<Figure size 432x288 with 1 Axes>"
      ]
     },
     "metadata": {
      "needs_background": "light"
     },
     "output_type": "display_data"
    }
   ],
   "source": [
    "sns.barplot(x=rev_freq.index,y=rev_freq.num_of_reviews,palette='Paired');\n",
    "\n",
    "plt.title('How often people book on AirBnB');\n",
    "plt.xticks(rotation=45);"
   ]
  },
  {
   "cell_type": "code",
   "execution_count": null,
   "id": "2d396aa9",
   "metadata": {},
   "outputs": [],
   "source": []
  },
  {
   "cell_type": "code",
   "execution_count": null,
   "id": "67105a03",
   "metadata": {},
   "outputs": [],
   "source": []
  },
  {
   "cell_type": "code",
   "execution_count": null,
   "id": "35d8dffb",
   "metadata": {},
   "outputs": [],
   "source": []
  }
 ],
 "metadata": {
  "kernelspec": {
   "display_name": "Python 3",
   "language": "python",
   "name": "python3"
  },
  "language_info": {
   "codemirror_mode": {
    "name": "ipython",
    "version": 3
   },
   "file_extension": ".py",
   "mimetype": "text/x-python",
   "name": "python",
   "nbconvert_exporter": "python",
   "pygments_lexer": "ipython3",
   "version": "3.8.3"
  }
 },
 "nbformat": 4,
 "nbformat_minor": 5
}

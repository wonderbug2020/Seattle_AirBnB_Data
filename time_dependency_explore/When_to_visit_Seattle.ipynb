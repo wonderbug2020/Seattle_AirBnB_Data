{
 "cells": [
  {
   "cell_type": "code",
   "execution_count": 22,
   "id": "4a636908",
   "metadata": {},
   "outputs": [],
   "source": [
    "import pandas as pd\n",
    "import matplotlib.pyplot as plt\n",
    "import seaborn as sns\n",
    "%matplotlib inline"
   ]
  },
  {
   "cell_type": "code",
   "execution_count": 17,
   "id": "2b476623",
   "metadata": {},
   "outputs": [],
   "source": [
    "#Loading in the data\n",
    "calendar_df = pd.read_csv('../Data/calendar.csv',parse_dates=['date'])\n",
    "reviews_df = pd.read_csv('../Data/reviews.csv',parse_dates=['date'])"
   ]
  },
  {
   "cell_type": "code",
   "execution_count": 18,
   "id": "02204a60",
   "metadata": {},
   "outputs": [],
   "source": [
    "#I am only interested in the data that is available \n",
    "#Additionally, I only need the price and the date\n",
    "cal_df = calendar_df[calendar_df['available'] == 't'].drop(['listing_id','available'],axis=1)"
   ]
  },
  {
   "cell_type": "code",
   "execution_count": 41,
   "id": "d988737e",
   "metadata": {},
   "outputs": [],
   "source": [
    "#Additionally, I need to price to be an float value\n",
    "cal_df['price'] = cal_df['price'].replace('[\\$,]', '', regex=True).astype(float)"
   ]
  },
  {
   "cell_type": "code",
   "execution_count": 19,
   "id": "41386b80",
   "metadata": {},
   "outputs": [],
   "source": [
    "#I want to see the amount of listings both on a monthly basis and day of the week\n",
    "#So I will add columns to help with this\n",
    "#cal_df['month'] = pd.DatetimeIndex(cal_df['date']).month\n",
    "cal_df['day_of_week'] = cal_df['date'].dt.day_name()\n",
    "cal_df['Month'] = cal_df['date'].dt.strftime('%b')"
   ]
  },
  {
   "cell_type": "code",
   "execution_count": 46,
   "id": "e6cb2866",
   "metadata": {},
   "outputs": [
    {
     "data": {
      "text/plain": [
       "<AxesSubplot:xlabel='Month', ylabel='price'>"
      ]
     },
     "execution_count": 46,
     "metadata": {},
     "output_type": "execute_result"
    },
    {
     "data": {
      "image/png": "[encoded data removed]",
      "text/plain": [
       "<Figure size 432x288 with 1 Axes>"
      ]
     },
     "metadata": {
      "needs_background": "light"
     },
     "output_type": "display_data"
    }
   ],
   "source": [
    "sns.violinplot(x=cal_df.Month,y=cal_df.price)"
   ]
  },
  {
   "cell_type": "code",
   "execution_count": 43,
   "id": "c0993b36",
   "metadata": {},
   "outputs": [
    {
     "data": {
      "text/html": [
       "<div>\n",
       "<style scoped>\n",
       "    .dataframe tbody tr th:only-of-type {\n",
       "        vertical-align: middle;\n",
       "    }\n",
       "\n",
       "    .dataframe tbody tr th {\n",
       "        vertical-align: top;\n",
       "    }\n",
       "\n",
       "    .dataframe thead th {\n",
       "        text-align: right;\n",
       "    }\n",
       "</style>\n",
       "<table border=\"1\" class=\"dataframe\">\n",
       "  <thead>\n",
       "    <tr style=\"text-align: right;\">\n",
       "      <th></th>\n",
       "      <th>date</th>\n",
       "      <th>price</th>\n",
       "      <th>day_of_week</th>\n",
       "      <th>Month</th>\n",
       "    </tr>\n",
       "  </thead>\n",
       "  <tbody>\n",
       "    <tr>\n",
       "      <th>970507</th>\n",
       "      <td>2016-12-06</td>\n",
       "      <td>120.0</td>\n",
       "      <td>Tuesday</td>\n",
       "      <td>Dec</td>\n",
       "    </tr>\n",
       "    <tr>\n",
       "      <th>222861</th>\n",
       "      <td>2016-08-02</td>\n",
       "      <td>75.0</td>\n",
       "      <td>Tuesday</td>\n",
       "      <td>Aug</td>\n",
       "    </tr>\n",
       "    <tr>\n",
       "      <th>1326184</th>\n",
       "      <td>2016-05-22</td>\n",
       "      <td>85.0</td>\n",
       "      <td>Sunday</td>\n",
       "      <td>May</td>\n",
       "    </tr>\n",
       "    <tr>\n",
       "      <th>859720</th>\n",
       "      <td>2016-05-28</td>\n",
       "      <td>45.0</td>\n",
       "      <td>Saturday</td>\n",
       "      <td>May</td>\n",
       "    </tr>\n",
       "    <tr>\n",
       "      <th>4730</th>\n",
       "      <td>2016-12-19</td>\n",
       "      <td>245.0</td>\n",
       "      <td>Monday</td>\n",
       "      <td>Dec</td>\n",
       "    </tr>\n",
       "  </tbody>\n",
       "</table>\n",
       "</div>"
      ],
      "text/plain": [
       "              date  price day_of_week Month\n",
       "970507  2016-12-06  120.0     Tuesday   Dec\n",
       "222861  2016-08-02   75.0     Tuesday   Aug\n",
       "1326184 2016-05-22   85.0      Sunday   May\n",
       "859720  2016-05-28   45.0    Saturday   May\n",
       "4730    2016-12-19  245.0      Monday   Dec"
      ]
     },
     "execution_count": 43,
     "metadata": {},
     "output_type": "execute_result"
    }
   ],
   "source": [
    "cal_df.sample(5)"
   ]
  },
  {
   "cell_type": "code",
   "execution_count": 33,
   "id": "3473a7aa",
   "metadata": {},
   "outputs": [],
   "source": [
    "#Starting with the month I want to see number of available openings and compare to the price\n",
    "#month_availability = cal_df['Month'].value_counts()\n",
    "month_availability = pd.DataFrame(cal_df[\"Month\"].value_counts().values,\n",
    "                                  index=cal_df[\"Month\"].value_counts().index,\n",
    "                                  columns=[\"available\"])\n",
    "month_availability.index.name = 'Month'\n",
    "\n",
    "month_availability = month_availability.sort_values(by='Month')\n",
    "#df = df.sort_values(by=\"Month\")"
   ]
  },
  {
   "cell_type": "code",
   "execution_count": 34,
   "id": "dd7c3b46",
   "metadata": {},
   "outputs": [
    {
     "data": {
      "text/html": [
       "<div>\n",
       "<style scoped>\n",
       "    .dataframe tbody tr th:only-of-type {\n",
       "        vertical-align: middle;\n",
       "    }\n",
       "\n",
       "    .dataframe tbody tr th {\n",
       "        vertical-align: top;\n",
       "    }\n",
       "\n",
       "    .dataframe thead th {\n",
       "        text-align: right;\n",
       "    }\n",
       "</style>\n",
       "<table border=\"1\" class=\"dataframe\">\n",
       "  <thead>\n",
       "    <tr style=\"text-align: right;\">\n",
       "      <th></th>\n",
       "      <th>available</th>\n",
       "    </tr>\n",
       "    <tr>\n",
       "      <th>Month</th>\n",
       "      <th></th>\n",
       "    </tr>\n",
       "  </thead>\n",
       "  <tbody>\n",
       "    <tr>\n",
       "      <th>Apr</th>\n",
       "      <td>76037</td>\n",
       "    </tr>\n",
       "    <tr>\n",
       "      <th>Aug</th>\n",
       "      <td>76347</td>\n",
       "    </tr>\n",
       "    <tr>\n",
       "      <th>Dec</th>\n",
       "      <td>87061</td>\n",
       "    </tr>\n",
       "    <tr>\n",
       "      <th>Feb</th>\n",
       "      <td>73321</td>\n",
       "    </tr>\n",
       "    <tr>\n",
       "      <th>Jan</th>\n",
       "      <td>64937</td>\n",
       "    </tr>\n",
       "    <tr>\n",
       "      <th>Jul</th>\n",
       "      <td>74222</td>\n",
       "    </tr>\n",
       "    <tr>\n",
       "      <th>Jun</th>\n",
       "      <td>77244</td>\n",
       "    </tr>\n",
       "    <tr>\n",
       "      <th>Mar</th>\n",
       "      <td>83938</td>\n",
       "    </tr>\n",
       "    <tr>\n",
       "      <th>May</th>\n",
       "      <td>79971</td>\n",
       "    </tr>\n",
       "    <tr>\n",
       "      <th>Nov</th>\n",
       "      <td>81780</td>\n",
       "    </tr>\n",
       "    <tr>\n",
       "      <th>Oct</th>\n",
       "      <td>82438</td>\n",
       "    </tr>\n",
       "    <tr>\n",
       "      <th>Sep</th>\n",
       "      <td>77246</td>\n",
       "    </tr>\n",
       "  </tbody>\n",
       "</table>\n",
       "</div>"
      ],
      "text/plain": [
       "       available\n",
       "Month           \n",
       "Apr        76037\n",
       "Aug        76347\n",
       "Dec        87061\n",
       "Feb        73321\n",
       "Jan        64937\n",
       "Jul        74222\n",
       "Jun        77244\n",
       "Mar        83938\n",
       "May        79971\n",
       "Nov        81780\n",
       "Oct        82438\n",
       "Sep        77246"
      ]
     },
     "execution_count": 34,
     "metadata": {},
     "output_type": "execute_result"
    }
   ],
   "source": [
    "month_availability"
   ]
  },
  {
   "cell_type": "code",
   "execution_count": 37,
   "id": "bde1d5e5",
   "metadata": {},
   "outputs": [],
   "source": [
    "new_order = ['Jan', 'Feb', 'Mar', 'Apr', 'May', 'Jun', 'Jul', 'Aug', 'Sep', 'Oct', 'Nov', 'Dec']\n",
    "\n",
    "ma = month_availability.reindex(new_order, axis=0)"
   ]
  },
  {
   "cell_type": "code",
   "execution_count": 38,
   "id": "ab58b9bf",
   "metadata": {},
   "outputs": [
    {
     "data": {
      "text/html": [
       "<div>\n",
       "<style scoped>\n",
       "    .dataframe tbody tr th:only-of-type {\n",
       "        vertical-align: middle;\n",
       "    }\n",
       "\n",
       "    .dataframe tbody tr th {\n",
       "        vertical-align: top;\n",
       "    }\n",
       "\n",
       "    .dataframe thead th {\n",
       "        text-align: right;\n",
       "    }\n",
       "</style>\n",
       "<table border=\"1\" class=\"dataframe\">\n",
       "  <thead>\n",
       "    <tr style=\"text-align: right;\">\n",
       "      <th></th>\n",
       "      <th>available</th>\n",
       "    </tr>\n",
       "    <tr>\n",
       "      <th>Month</th>\n",
       "      <th></th>\n",
       "    </tr>\n",
       "  </thead>\n",
       "  <tbody>\n",
       "    <tr>\n",
       "      <th>Jan</th>\n",
       "      <td>64937</td>\n",
       "    </tr>\n",
       "    <tr>\n",
       "      <th>Feb</th>\n",
       "      <td>73321</td>\n",
       "    </tr>\n",
       "    <tr>\n",
       "      <th>Mar</th>\n",
       "      <td>83938</td>\n",
       "    </tr>\n",
       "    <tr>\n",
       "      <th>Apr</th>\n",
       "      <td>76037</td>\n",
       "    </tr>\n",
       "    <tr>\n",
       "      <th>May</th>\n",
       "      <td>79971</td>\n",
       "    </tr>\n",
       "    <tr>\n",
       "      <th>Jun</th>\n",
       "      <td>77244</td>\n",
       "    </tr>\n",
       "    <tr>\n",
       "      <th>Jul</th>\n",
       "      <td>74222</td>\n",
       "    </tr>\n",
       "    <tr>\n",
       "      <th>Aug</th>\n",
       "      <td>76347</td>\n",
       "    </tr>\n",
       "    <tr>\n",
       "      <th>Sep</th>\n",
       "      <td>77246</td>\n",
       "    </tr>\n",
       "    <tr>\n",
       "      <th>Oct</th>\n",
       "      <td>82438</td>\n",
       "    </tr>\n",
       "    <tr>\n",
       "      <th>Nov</th>\n",
       "      <td>81780</td>\n",
       "    </tr>\n",
       "    <tr>\n",
       "      <th>Dec</th>\n",
       "      <td>87061</td>\n",
       "    </tr>\n",
       "  </tbody>\n",
       "</table>\n",
       "</div>"
      ],
      "text/plain": [
       "       available\n",
       "Month           \n",
       "Jan        64937\n",
       "Feb        73321\n",
       "Mar        83938\n",
       "Apr        76037\n",
       "May        79971\n",
       "Jun        77244\n",
       "Jul        74222\n",
       "Aug        76347\n",
       "Sep        77246\n",
       "Oct        82438\n",
       "Nov        81780\n",
       "Dec        87061"
      ]
     },
     "execution_count": 38,
     "metadata": {},
     "output_type": "execute_result"
    }
   ],
   "source": [
    "ma"
   ]
  },
  {
   "cell_type": "code",
   "execution_count": 24,
   "id": "4283ecdd",
   "metadata": {},
   "outputs": [
    {
     "data": {
      "text/plain": [
       "<AxesSubplot:ylabel='available'>"
      ]
     },
     "execution_count": 24,
     "metadata": {},
     "output_type": "execute_result"
    },
    {
     "data": {
      "image/png": "[encoded data removed]",
      "text/plain": [
       "<Figure size 432x288 with 1 Axes>"
      ]
     },
     "metadata": {
      "needs_background": "light"
     },
     "output_type": "display_data"
    }
   ],
   "source": [
    "sns.barplot(x=month_availability.index,y=month_availability.available)"
   ]
  },
  {
   "cell_type": "code",
   "execution_count": 39,
   "id": "c73f1927",
   "metadata": {},
   "outputs": [
    {
     "data": {
      "text/plain": [
       "<AxesSubplot:xlabel='Month', ylabel='available'>"
      ]
     },
     "execution_count": 39,
     "metadata": {},
     "output_type": "execute_result"
    },
    {
     "data": {
      "image/png": "[encoded data removed]",
      "text/plain": [
       "<Figure size 432x288 with 1 Axes>"
      ]
     },
     "metadata": {
      "needs_background": "light"
     },
     "output_type": "display_data"
    }
   ],
   "source": [
    "sns.barplot(x=ma.index,y=ma.available)"
   ]
  },
  {
   "cell_type": "code",
   "execution_count": 11,
   "id": "f8f4dcc2",
   "metadata": {},
   "outputs": [
    {
     "data": {
      "text/plain": [
       "Dec    87061\n",
       "Mar    83938\n",
       "Oct    82438\n",
       "Nov    81780\n",
       "May    79971\n",
       "Sep    77246\n",
       "Jun    77244\n",
       "Aug    76347\n",
       "Apr    76037\n",
       "Jul    74222\n",
       "Feb    73321\n",
       "Jan    64937\n",
       "Name: Month, dtype: int64"
      ]
     },
     "execution_count": 11,
     "metadata": {},
     "output_type": "execute_result"
    }
   ],
   "source": [
    "#Get the range in calender data set\n",
    "#calendar_feq = pd.DataFrame(calendar[\"date\"].value_counts().values,\n",
    "#                           index=calendar[\"date\"].value_counts().index,\n",
    "#                           columns=[\"price_num\"])\n",
    "#calendar_feq"
   ]
  },
  {
   "cell_type": "code",
   "execution_count": 5,
   "id": "b2abef11",
   "metadata": {},
   "outputs": [
    {
     "data": {
      "text/html": [
       "<div>\n",
       "<style scoped>\n",
       "    .dataframe tbody tr th:only-of-type {\n",
       "        vertical-align: middle;\n",
       "    }\n",
       "\n",
       "    .dataframe tbody tr th {\n",
       "        vertical-align: top;\n",
       "    }\n",
       "\n",
       "    .dataframe thead th {\n",
       "        text-align: right;\n",
       "    }\n",
       "</style>\n",
       "<table border=\"1\" class=\"dataframe\">\n",
       "  <thead>\n",
       "    <tr style=\"text-align: right;\">\n",
       "      <th></th>\n",
       "      <th>date</th>\n",
       "      <th>price</th>\n",
       "      <th>day_of_week</th>\n",
       "      <th>Month</th>\n",
       "    </tr>\n",
       "  </thead>\n",
       "  <tbody>\n",
       "    <tr>\n",
       "      <th>1126877</th>\n",
       "      <td>2016-05-05</td>\n",
       "      <td>$60.00</td>\n",
       "      <td>Thursday</td>\n",
       "      <td>May</td>\n",
       "    </tr>\n",
       "    <tr>\n",
       "      <th>744595</th>\n",
       "      <td>2016-12-29</td>\n",
       "      <td>$85.00</td>\n",
       "      <td>Thursday</td>\n",
       "      <td>Dec</td>\n",
       "    </tr>\n",
       "    <tr>\n",
       "      <th>830949</th>\n",
       "      <td>2016-07-31</td>\n",
       "      <td>$40.00</td>\n",
       "      <td>Sunday</td>\n",
       "      <td>Jul</td>\n",
       "    </tr>\n",
       "    <tr>\n",
       "      <th>151400</th>\n",
       "      <td>2016-10-20</td>\n",
       "      <td>$45.00</td>\n",
       "      <td>Thursday</td>\n",
       "      <td>Oct</td>\n",
       "    </tr>\n",
       "    <tr>\n",
       "      <th>1359823</th>\n",
       "      <td>2016-07-20</td>\n",
       "      <td>$95.00</td>\n",
       "      <td>Wednesday</td>\n",
       "      <td>Jul</td>\n",
       "    </tr>\n",
       "  </tbody>\n",
       "</table>\n",
       "</div>"
      ],
      "text/plain": [
       "              date   price day_of_week Month\n",
       "1126877 2016-05-05  $60.00    Thursday   May\n",
       "744595  2016-12-29  $85.00    Thursday   Dec\n",
       "830949  2016-07-31  $40.00      Sunday   Jul\n",
       "151400  2016-10-20  $45.00    Thursday   Oct\n",
       "1359823 2016-07-20  $95.00   Wednesday   Jul"
      ]
     },
     "execution_count": 5,
     "metadata": {},
     "output_type": "execute_result"
    }
   ],
   "source": [
    "cal_df.sample(5)"
   ]
  },
  {
   "cell_type": "code",
   "execution_count": null,
   "id": "f2460ebc",
   "metadata": {},
   "outputs": [],
   "source": [
    "calendar_df.sample(5)"
   ]
  },
  {
   "cell_type": "code",
   "execution_count": 13,
   "id": "0997458d",
   "metadata": {},
   "outputs": [],
   "source": [
    "cal_df['Month_2'] = cal_df['date'].dt.strftime('%M')"
   ]
  },
  {
   "cell_type": "code",
   "execution_count": 16,
   "id": "2d78f6fc",
   "metadata": {},
   "outputs": [
    {
     "data": {
      "text/html": [
       "<div>\n",
       "<style scoped>\n",
       "    .dataframe tbody tr th:only-of-type {\n",
       "        vertical-align: middle;\n",
       "    }\n",
       "\n",
       "    .dataframe tbody tr th {\n",
       "        vertical-align: top;\n",
       "    }\n",
       "\n",
       "    .dataframe thead th {\n",
       "        text-align: right;\n",
       "    }\n",
       "</style>\n",
       "<table border=\"1\" class=\"dataframe\">\n",
       "  <thead>\n",
       "    <tr style=\"text-align: right;\">\n",
       "      <th></th>\n",
       "      <th>date</th>\n",
       "      <th>price</th>\n",
       "      <th>day_of_week</th>\n",
       "      <th>Month</th>\n",
       "      <th>Month_2</th>\n",
       "    </tr>\n",
       "  </thead>\n",
       "  <tbody>\n",
       "    <tr>\n",
       "      <th>865837</th>\n",
       "      <td>2016-03-01</td>\n",
       "      <td>$65.00</td>\n",
       "      <td>Tuesday</td>\n",
       "      <td>Mar</td>\n",
       "      <td>00</td>\n",
       "    </tr>\n",
       "    <tr>\n",
       "      <th>507804</th>\n",
       "      <td>2016-04-02</td>\n",
       "      <td>$265.00</td>\n",
       "      <td>Saturday</td>\n",
       "      <td>Apr</td>\n",
       "      <td>00</td>\n",
       "    </tr>\n",
       "    <tr>\n",
       "      <th>315080</th>\n",
       "      <td>2016-03-29</td>\n",
       "      <td>$58.00</td>\n",
       "      <td>Tuesday</td>\n",
       "      <td>Mar</td>\n",
       "      <td>00</td>\n",
       "    </tr>\n",
       "    <tr>\n",
       "      <th>858405</th>\n",
       "      <td>2016-10-20</td>\n",
       "      <td>$90.00</td>\n",
       "      <td>Thursday</td>\n",
       "      <td>Oct</td>\n",
       "      <td>00</td>\n",
       "    </tr>\n",
       "    <tr>\n",
       "      <th>382481</th>\n",
       "      <td>2016-11-25</td>\n",
       "      <td>$120.00</td>\n",
       "      <td>Friday</td>\n",
       "      <td>Nov</td>\n",
       "      <td>00</td>\n",
       "    </tr>\n",
       "  </tbody>\n",
       "</table>\n",
       "</div>"
      ],
      "text/plain": [
       "             date    price day_of_week Month Month_2\n",
       "865837 2016-03-01   $65.00     Tuesday   Mar      00\n",
       "507804 2016-04-02  $265.00    Saturday   Apr      00\n",
       "315080 2016-03-29   $58.00     Tuesday   Mar      00\n",
       "858405 2016-10-20   $90.00    Thursday   Oct      00\n",
       "382481 2016-11-25  $120.00      Friday   Nov      00"
      ]
     },
     "execution_count": 16,
     "metadata": {},
     "output_type": "execute_result"
    }
   ],
   "source": [
    "cal_df.sample(5)"
   ]
  },
  {
   "cell_type": "code",
   "execution_count": null,
   "id": "61cdbc86",
   "metadata": {},
   "outputs": [],
   "source": []
  }
 ],
 "metadata": {
  "kernelspec": {
   "display_name": "Python 3",
   "language": "python",
   "name": "python3"
  },
  "language_info": {
   "codemirror_mode": {
    "name": "ipython",
    "version": 3
   },
   "file_extension": ".py",
   "mimetype": "text/x-python",
   "name": "python",
   "nbconvert_exporter": "python",
   "pygments_lexer": "ipython3",
   "version": "3.8.3"
  }
 },
 "nbformat": 4,
 "nbformat_minor": 5
}

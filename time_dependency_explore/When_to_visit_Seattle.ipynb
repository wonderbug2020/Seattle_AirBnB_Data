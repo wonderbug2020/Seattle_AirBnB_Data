{
 "cells": [
  {
   "cell_type": "code",
   "execution_count": 1,
   "id": "3b39ec68",
   "metadata": {},
   "outputs": [],
   "source": [
    "import pandas as pd\n",
    "import matplotlib.pyplot as plt\n",
    "%matplotlib inline"
   ]
  },
  {
   "cell_type": "code",
   "execution_count": 2,
   "id": "46a8a7b7",
   "metadata": {},
   "outputs": [],
   "source": [
    "#Loading in the data\n",
    "calendar_df = pd.read_csv('../Data/calendar.csv',parse_dates=['date'])\n",
    "reviews_df = pd.read_csv('../Data/reviews.csv',parse_dates=['date'])"
   ]
  },
  {
   "cell_type": "code",
   "execution_count": 17,
   "id": "fa4676ac",
   "metadata": {},
   "outputs": [],
   "source": [
    "#I am only interested in the data that is available \n",
    "#Additionally, I only need the price and the date\n",
    "cal_df = calendar_df[calendar_df['available'] == 't'].drop(['listing_id','available'],axis=1)"
   ]
  },
  {
   "cell_type": "code",
   "execution_count": null,
   "id": "8362b6df",
   "metadata": {},
   "outputs": [],
   "source": [
    "#I want to see the amount of listings both on a monthly basis and day of the week\n",
    "#So I will add columns to help with this"
   ]
  },
  {
   "cell_type": "code",
   "execution_count": 7,
   "id": "f69dfb8c",
   "metadata": {},
   "outputs": [
    {
     "data": {
      "text/html": [
       "<div>\n",
       "<style scoped>\n",
       "    .dataframe tbody tr th:only-of-type {\n",
       "        vertical-align: middle;\n",
       "    }\n",
       "\n",
       "    .dataframe tbody tr th {\n",
       "        vertical-align: top;\n",
       "    }\n",
       "\n",
       "    .dataframe thead th {\n",
       "        text-align: right;\n",
       "    }\n",
       "</style>\n",
       "<table border=\"1\" class=\"dataframe\">\n",
       "  <thead>\n",
       "    <tr style=\"text-align: right;\">\n",
       "      <th></th>\n",
       "      <th>listing_id</th>\n",
       "      <th>date</th>\n",
       "      <th>available</th>\n",
       "      <th>price</th>\n",
       "    </tr>\n",
       "  </thead>\n",
       "  <tbody>\n",
       "    <tr>\n",
       "      <th>1359283</th>\n",
       "      <td>7217102</td>\n",
       "      <td>2016-01-27</td>\n",
       "      <td>t</td>\n",
       "      <td>$232.00</td>\n",
       "    </tr>\n",
       "    <tr>\n",
       "      <th>186998</th>\n",
       "      <td>6262987</td>\n",
       "      <td>2016-05-01</td>\n",
       "      <td>f</td>\n",
       "      <td>NaN</td>\n",
       "    </tr>\n",
       "    <tr>\n",
       "      <th>442698</th>\n",
       "      <td>5736082</td>\n",
       "      <td>2016-11-17</td>\n",
       "      <td>t</td>\n",
       "      <td>$45.00</td>\n",
       "    </tr>\n",
       "    <tr>\n",
       "      <th>250621</th>\n",
       "      <td>977722</td>\n",
       "      <td>2016-08-22</td>\n",
       "      <td>f</td>\n",
       "      <td>NaN</td>\n",
       "    </tr>\n",
       "    <tr>\n",
       "      <th>1211772</th>\n",
       "      <td>9675736</td>\n",
       "      <td>2016-12-06</td>\n",
       "      <td>f</td>\n",
       "      <td>NaN</td>\n",
       "    </tr>\n",
       "  </tbody>\n",
       "</table>\n",
       "</div>"
      ],
      "text/plain": [
       "         listing_id       date available    price\n",
       "1359283     7217102 2016-01-27         t  $232.00\n",
       "186998      6262987 2016-05-01         f      NaN\n",
       "442698      5736082 2016-11-17         t   $45.00\n",
       "250621       977722 2016-08-22         f      NaN\n",
       "1211772     9675736 2016-12-06         f      NaN"
      ]
     },
     "execution_count": 7,
     "metadata": {},
     "output_type": "execute_result"
    }
   ],
   "source": [
    "calendar_df.sample(5)"
   ]
  },
  {
   "cell_type": "code",
   "execution_count": 10,
   "id": "f53af6af",
   "metadata": {},
   "outputs": [
    {
     "data": {
      "text/plain": [
       "1393570"
      ]
     },
     "execution_count": 10,
     "metadata": {},
     "output_type": "execute_result"
    }
   ],
   "source": [
    "len(calendar_df['date'])"
   ]
  },
  {
   "cell_type": "code",
   "execution_count": 12,
   "id": "8657ac46",
   "metadata": {},
   "outputs": [
    {
     "data": {
      "text/plain": [
       "934542"
      ]
     },
     "execution_count": 12,
     "metadata": {},
     "output_type": "execute_result"
    }
   ],
   "source": [
    "len(cal_df)"
   ]
  },
  {
   "cell_type": "code",
   "execution_count": 13,
   "id": "eef125f3",
   "metadata": {},
   "outputs": [
    {
     "data": {
      "text/html": [
       "<div>\n",
       "<style scoped>\n",
       "    .dataframe tbody tr th:only-of-type {\n",
       "        vertical-align: middle;\n",
       "    }\n",
       "\n",
       "    .dataframe tbody tr th {\n",
       "        vertical-align: top;\n",
       "    }\n",
       "\n",
       "    .dataframe thead th {\n",
       "        text-align: right;\n",
       "    }\n",
       "</style>\n",
       "<table border=\"1\" class=\"dataframe\">\n",
       "  <thead>\n",
       "    <tr style=\"text-align: right;\">\n",
       "      <th></th>\n",
       "      <th>listing_id</th>\n",
       "      <th>date</th>\n",
       "      <th>available</th>\n",
       "      <th>price</th>\n",
       "    </tr>\n",
       "  </thead>\n",
       "  <tbody>\n",
       "    <tr>\n",
       "      <th>390649</th>\n",
       "      <td>3385421</td>\n",
       "      <td>2016-04-12</td>\n",
       "      <td>t</td>\n",
       "      <td>$557.00</td>\n",
       "    </tr>\n",
       "    <tr>\n",
       "      <th>535823</th>\n",
       "      <td>9863312</td>\n",
       "      <td>2016-01-07</td>\n",
       "      <td>t</td>\n",
       "      <td>$99.00</td>\n",
       "    </tr>\n",
       "    <tr>\n",
       "      <th>991379</th>\n",
       "      <td>9494946</td>\n",
       "      <td>2016-02-12</td>\n",
       "      <td>t</td>\n",
       "      <td>$89.00</td>\n",
       "    </tr>\n",
       "    <tr>\n",
       "      <th>564946</th>\n",
       "      <td>2191169</td>\n",
       "      <td>2016-10-21</td>\n",
       "      <td>t</td>\n",
       "      <td>$291.00</td>\n",
       "    </tr>\n",
       "    <tr>\n",
       "      <th>863007</th>\n",
       "      <td>1827586</td>\n",
       "      <td>2016-05-30</td>\n",
       "      <td>t</td>\n",
       "      <td>$375.00</td>\n",
       "    </tr>\n",
       "  </tbody>\n",
       "</table>\n",
       "</div>"
      ],
      "text/plain": [
       "        listing_id       date available    price\n",
       "390649     3385421 2016-04-12         t  $557.00\n",
       "535823     9863312 2016-01-07         t   $99.00\n",
       "991379     9494946 2016-02-12         t   $89.00\n",
       "564946     2191169 2016-10-21         t  $291.00\n",
       "863007     1827586 2016-05-30         t  $375.00"
      ]
     },
     "execution_count": 13,
     "metadata": {},
     "output_type": "execute_result"
    }
   ],
   "source": [
    "cal_df.sample(5)"
   ]
  },
  {
   "cell_type": "code",
   "execution_count": 14,
   "id": "8098b7b1",
   "metadata": {},
   "outputs": [],
   "source": [
    "cal_df_2 = calendar_df[calendar_df['available'] == 't'].drop(['listing_id','available'],axis=1)"
   ]
  },
  {
   "cell_type": "code",
   "execution_count": 15,
   "id": "8411bc64",
   "metadata": {},
   "outputs": [
    {
     "data": {
      "text/html": [
       "<div>\n",
       "<style scoped>\n",
       "    .dataframe tbody tr th:only-of-type {\n",
       "        vertical-align: middle;\n",
       "    }\n",
       "\n",
       "    .dataframe tbody tr th {\n",
       "        vertical-align: top;\n",
       "    }\n",
       "\n",
       "    .dataframe thead th {\n",
       "        text-align: right;\n",
       "    }\n",
       "</style>\n",
       "<table border=\"1\" class=\"dataframe\">\n",
       "  <thead>\n",
       "    <tr style=\"text-align: right;\">\n",
       "      <th></th>\n",
       "      <th>date</th>\n",
       "      <th>price</th>\n",
       "    </tr>\n",
       "  </thead>\n",
       "  <tbody>\n",
       "    <tr>\n",
       "      <th>362271</th>\n",
       "      <td>2016-07-13</td>\n",
       "      <td>$225.00</td>\n",
       "    </tr>\n",
       "    <tr>\n",
       "      <th>892466</th>\n",
       "      <td>2016-02-14</td>\n",
       "      <td>$63.00</td>\n",
       "    </tr>\n",
       "    <tr>\n",
       "      <th>567602</th>\n",
       "      <td>2016-01-31</td>\n",
       "      <td>$100.00</td>\n",
       "    </tr>\n",
       "    <tr>\n",
       "      <th>1271910</th>\n",
       "      <td>2016-09-10</td>\n",
       "      <td>$85.00</td>\n",
       "    </tr>\n",
       "    <tr>\n",
       "      <th>153952</th>\n",
       "      <td>2016-10-17</td>\n",
       "      <td>$40.00</td>\n",
       "    </tr>\n",
       "  </tbody>\n",
       "</table>\n",
       "</div>"
      ],
      "text/plain": [
       "              date    price\n",
       "362271  2016-07-13  $225.00\n",
       "892466  2016-02-14   $63.00\n",
       "567602  2016-01-31  $100.00\n",
       "1271910 2016-09-10   $85.00\n",
       "153952  2016-10-17   $40.00"
      ]
     },
     "execution_count": 15,
     "metadata": {},
     "output_type": "execute_result"
    }
   ],
   "source": [
    "cal_df_2.sample(5)"
   ]
  },
  {
   "cell_type": "code",
   "execution_count": null,
   "id": "0b2a721a",
   "metadata": {},
   "outputs": [],
   "source": []
  }
 ],
 "metadata": {
  "kernelspec": {
   "display_name": "Python 3",
   "language": "python",
   "name": "python3"
  },
  "language_info": {
   "codemirror_mode": {
    "name": "ipython",
    "version": 3
   },
   "file_extension": ".py",
   "mimetype": "text/x-python",
   "name": "python",
   "nbconvert_exporter": "python",
   "pygments_lexer": "ipython3",
   "version": "3.8.3"
  }
 },
 "nbformat": 4,
 "nbformat_minor": 5
}

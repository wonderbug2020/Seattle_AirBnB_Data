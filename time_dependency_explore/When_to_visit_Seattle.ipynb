{
 "cells": [
  {
   "cell_type": "code",
   "execution_count": 52,
   "id": "6bd1a474",
   "metadata": {},
   "outputs": [],
   "source": [
    "import pandas as pd\n",
    "import matplotlib.pyplot as plt\n",
    "%matplotlib inline"
   ]
  },
  {
   "cell_type": "code",
   "execution_count": 53,
   "id": "bdb1babd",
   "metadata": {},
   "outputs": [],
   "source": [
    "#Loading in the data\n",
    "calendar_df = pd.read_csv('../Data/calendar.csv',parse_dates=['date'])\n",
    "reviews_df = pd.read_csv('../Data/reviews.csv',parse_dates=['date'])"
   ]
  },
  {
   "cell_type": "code",
   "execution_count": 54,
   "id": "dda526b6",
   "metadata": {},
   "outputs": [],
   "source": [
    "#I am only interested in the data that is available \n",
    "#Additionally, I only need the price and the date\n",
    "cal_df = calendar_df[calendar_df['available'] == 't'].drop(['listing_id','available'],axis=1)"
   ]
  },
  {
   "cell_type": "code",
   "execution_count": 55,
   "id": "522deadf",
   "metadata": {},
   "outputs": [],
   "source": [
    "#I want to see the amount of listings both on a monthly basis and day of the week\n",
    "#So I will add columns to help with this\n",
    "#cal_df['month'] = pd.DatetimeIndex(cal_df['date']).month\n",
    "cal_df['day_of_week'] = cal_df['date'].dt.day_name()\n",
    "cal_df['Month'] = cal_df['date'].dt.strftime('%b')"
   ]
  },
  {
   "cell_type": "code",
   "execution_count": null,
   "id": "2cda7efb",
   "metadata": {},
   "outputs": [],
   "source": [
    "#Starting with the month I want to see "
   ]
  },
  {
   "cell_type": "code",
   "execution_count": 63,
   "id": "b500b9e4",
   "metadata": {},
   "outputs": [
    {
     "data": {
      "text/plain": [
       "3818"
      ]
     },
     "execution_count": 63,
     "metadata": {},
     "output_type": "execute_result"
    }
   ],
   "source": [
    "#len(pd.unique(df['height']))\n",
    "len(pd.unique(calendar_df['listing_id']))"
   ]
  },
  {
   "cell_type": "code",
   "execution_count": 56,
   "id": "231fec18",
   "metadata": {},
   "outputs": [
    {
     "data": {
      "text/html": [
       "<div>\n",
       "<style scoped>\n",
       "    .dataframe tbody tr th:only-of-type {\n",
       "        vertical-align: middle;\n",
       "    }\n",
       "\n",
       "    .dataframe tbody tr th {\n",
       "        vertical-align: top;\n",
       "    }\n",
       "\n",
       "    .dataframe thead th {\n",
       "        text-align: right;\n",
       "    }\n",
       "</style>\n",
       "<table border=\"1\" class=\"dataframe\">\n",
       "  <thead>\n",
       "    <tr style=\"text-align: right;\">\n",
       "      <th></th>\n",
       "      <th>date</th>\n",
       "      <th>price</th>\n",
       "      <th>day_of_week</th>\n",
       "      <th>Month</th>\n",
       "    </tr>\n",
       "  </thead>\n",
       "  <tbody>\n",
       "    <tr>\n",
       "      <th>386972</th>\n",
       "      <td>2016-03-16</td>\n",
       "      <td>$149.00</td>\n",
       "      <td>Wednesday</td>\n",
       "      <td>Mar</td>\n",
       "    </tr>\n",
       "    <tr>\n",
       "      <th>421166</th>\n",
       "      <td>2016-11-20</td>\n",
       "      <td>$115.00</td>\n",
       "      <td>Sunday</td>\n",
       "      <td>Nov</td>\n",
       "    </tr>\n",
       "    <tr>\n",
       "      <th>907278</th>\n",
       "      <td>2016-09-13</td>\n",
       "      <td>$110.00</td>\n",
       "      <td>Tuesday</td>\n",
       "      <td>Sep</td>\n",
       "    </tr>\n",
       "    <tr>\n",
       "      <th>288123</th>\n",
       "      <td>2016-05-21</td>\n",
       "      <td>$95.00</td>\n",
       "      <td>Saturday</td>\n",
       "      <td>May</td>\n",
       "    </tr>\n",
       "    <tr>\n",
       "      <th>1191366</th>\n",
       "      <td>2016-01-10</td>\n",
       "      <td>$75.00</td>\n",
       "      <td>Sunday</td>\n",
       "      <td>Jan</td>\n",
       "    </tr>\n",
       "  </tbody>\n",
       "</table>\n",
       "</div>"
      ],
      "text/plain": [
       "              date    price day_of_week Month\n",
       "386972  2016-03-16  $149.00   Wednesday   Mar\n",
       "421166  2016-11-20  $115.00      Sunday   Nov\n",
       "907278  2016-09-13  $110.00     Tuesday   Sep\n",
       "288123  2016-05-21   $95.00    Saturday   May\n",
       "1191366 2016-01-10   $75.00      Sunday   Jan"
      ]
     },
     "execution_count": 56,
     "metadata": {},
     "output_type": "execute_result"
    }
   ],
   "source": [
    "cal_df.sample(5)"
   ]
  },
  {
   "cell_type": "code",
   "execution_count": 7,
   "id": "2237ffec",
   "metadata": {},
   "outputs": [
    {
     "data": {
      "text/html": [
       "<div>\n",
       "<style scoped>\n",
       "    .dataframe tbody tr th:only-of-type {\n",
       "        vertical-align: middle;\n",
       "    }\n",
       "\n",
       "    .dataframe tbody tr th {\n",
       "        vertical-align: top;\n",
       "    }\n",
       "\n",
       "    .dataframe thead th {\n",
       "        text-align: right;\n",
       "    }\n",
       "</style>\n",
       "<table border=\"1\" class=\"dataframe\">\n",
       "  <thead>\n",
       "    <tr style=\"text-align: right;\">\n",
       "      <th></th>\n",
       "      <th>listing_id</th>\n",
       "      <th>date</th>\n",
       "      <th>available</th>\n",
       "      <th>price</th>\n",
       "    </tr>\n",
       "  </thead>\n",
       "  <tbody>\n",
       "    <tr>\n",
       "      <th>1359283</th>\n",
       "      <td>7217102</td>\n",
       "      <td>2016-01-27</td>\n",
       "      <td>t</td>\n",
       "      <td>$232.00</td>\n",
       "    </tr>\n",
       "    <tr>\n",
       "      <th>186998</th>\n",
       "      <td>6262987</td>\n",
       "      <td>2016-05-01</td>\n",
       "      <td>f</td>\n",
       "      <td>NaN</td>\n",
       "    </tr>\n",
       "    <tr>\n",
       "      <th>442698</th>\n",
       "      <td>5736082</td>\n",
       "      <td>2016-11-17</td>\n",
       "      <td>t</td>\n",
       "      <td>$45.00</td>\n",
       "    </tr>\n",
       "    <tr>\n",
       "      <th>250621</th>\n",
       "      <td>977722</td>\n",
       "      <td>2016-08-22</td>\n",
       "      <td>f</td>\n",
       "      <td>NaN</td>\n",
       "    </tr>\n",
       "    <tr>\n",
       "      <th>1211772</th>\n",
       "      <td>9675736</td>\n",
       "      <td>2016-12-06</td>\n",
       "      <td>f</td>\n",
       "      <td>NaN</td>\n",
       "    </tr>\n",
       "  </tbody>\n",
       "</table>\n",
       "</div>"
      ],
      "text/plain": [
       "         listing_id       date available    price\n",
       "1359283     7217102 2016-01-27         t  $232.00\n",
       "186998      6262987 2016-05-01         f      NaN\n",
       "442698      5736082 2016-11-17         t   $45.00\n",
       "250621       977722 2016-08-22         f      NaN\n",
       "1211772     9675736 2016-12-06         f      NaN"
      ]
     },
     "execution_count": 7,
     "metadata": {},
     "output_type": "execute_result"
    }
   ],
   "source": [
    "calendar_df.sample(5)"
   ]
  },
  {
   "cell_type": "code",
   "execution_count": 10,
   "id": "060aa77c",
   "metadata": {},
   "outputs": [
    {
     "data": {
      "text/plain": [
       "1393570"
      ]
     },
     "execution_count": 10,
     "metadata": {},
     "output_type": "execute_result"
    }
   ],
   "source": [
    "len(calendar_df['date'])"
   ]
  },
  {
   "cell_type": "code",
   "execution_count": 12,
   "id": "a4c7c92d",
   "metadata": {},
   "outputs": [
    {
     "data": {
      "text/plain": [
       "934542"
      ]
     },
     "execution_count": 12,
     "metadata": {},
     "output_type": "execute_result"
    }
   ],
   "source": [
    "len(cal_df)"
   ]
  },
  {
   "cell_type": "code",
   "execution_count": 13,
   "id": "5228109d",
   "metadata": {},
   "outputs": [
    {
     "data": {
      "text/html": [
       "<div>\n",
       "<style scoped>\n",
       "    .dataframe tbody tr th:only-of-type {\n",
       "        vertical-align: middle;\n",
       "    }\n",
       "\n",
       "    .dataframe tbody tr th {\n",
       "        vertical-align: top;\n",
       "    }\n",
       "\n",
       "    .dataframe thead th {\n",
       "        text-align: right;\n",
       "    }\n",
       "</style>\n",
       "<table border=\"1\" class=\"dataframe\">\n",
       "  <thead>\n",
       "    <tr style=\"text-align: right;\">\n",
       "      <th></th>\n",
       "      <th>listing_id</th>\n",
       "      <th>date</th>\n",
       "      <th>available</th>\n",
       "      <th>price</th>\n",
       "    </tr>\n",
       "  </thead>\n",
       "  <tbody>\n",
       "    <tr>\n",
       "      <th>390649</th>\n",
       "      <td>3385421</td>\n",
       "      <td>2016-04-12</td>\n",
       "      <td>t</td>\n",
       "      <td>$557.00</td>\n",
       "    </tr>\n",
       "    <tr>\n",
       "      <th>535823</th>\n",
       "      <td>9863312</td>\n",
       "      <td>2016-01-07</td>\n",
       "      <td>t</td>\n",
       "      <td>$99.00</td>\n",
       "    </tr>\n",
       "    <tr>\n",
       "      <th>991379</th>\n",
       "      <td>9494946</td>\n",
       "      <td>2016-02-12</td>\n",
       "      <td>t</td>\n",
       "      <td>$89.00</td>\n",
       "    </tr>\n",
       "    <tr>\n",
       "      <th>564946</th>\n",
       "      <td>2191169</td>\n",
       "      <td>2016-10-21</td>\n",
       "      <td>t</td>\n",
       "      <td>$291.00</td>\n",
       "    </tr>\n",
       "    <tr>\n",
       "      <th>863007</th>\n",
       "      <td>1827586</td>\n",
       "      <td>2016-05-30</td>\n",
       "      <td>t</td>\n",
       "      <td>$375.00</td>\n",
       "    </tr>\n",
       "  </tbody>\n",
       "</table>\n",
       "</div>"
      ],
      "text/plain": [
       "        listing_id       date available    price\n",
       "390649     3385421 2016-04-12         t  $557.00\n",
       "535823     9863312 2016-01-07         t   $99.00\n",
       "991379     9494946 2016-02-12         t   $89.00\n",
       "564946     2191169 2016-10-21         t  $291.00\n",
       "863007     1827586 2016-05-30         t  $375.00"
      ]
     },
     "execution_count": 13,
     "metadata": {},
     "output_type": "execute_result"
    }
   ],
   "source": [
    "cal_df.sample(5)"
   ]
  },
  {
   "cell_type": "code",
   "execution_count": 14,
   "id": "f2f6a167",
   "metadata": {},
   "outputs": [],
   "source": [
    "cal_df_2 = calendar_df[calendar_df['available'] == 't'].drop(['listing_id','available'],axis=1)"
   ]
  },
  {
   "cell_type": "code",
   "execution_count": 15,
   "id": "82258702",
   "metadata": {},
   "outputs": [
    {
     "data": {
      "text/html": [
       "<div>\n",
       "<style scoped>\n",
       "    .dataframe tbody tr th:only-of-type {\n",
       "        vertical-align: middle;\n",
       "    }\n",
       "\n",
       "    .dataframe tbody tr th {\n",
       "        vertical-align: top;\n",
       "    }\n",
       "\n",
       "    .dataframe thead th {\n",
       "        text-align: right;\n",
       "    }\n",
       "</style>\n",
       "<table border=\"1\" class=\"dataframe\">\n",
       "  <thead>\n",
       "    <tr style=\"text-align: right;\">\n",
       "      <th></th>\n",
       "      <th>date</th>\n",
       "      <th>price</th>\n",
       "    </tr>\n",
       "  </thead>\n",
       "  <tbody>\n",
       "    <tr>\n",
       "      <th>362271</th>\n",
       "      <td>2016-07-13</td>\n",
       "      <td>$225.00</td>\n",
       "    </tr>\n",
       "    <tr>\n",
       "      <th>892466</th>\n",
       "      <td>2016-02-14</td>\n",
       "      <td>$63.00</td>\n",
       "    </tr>\n",
       "    <tr>\n",
       "      <th>567602</th>\n",
       "      <td>2016-01-31</td>\n",
       "      <td>$100.00</td>\n",
       "    </tr>\n",
       "    <tr>\n",
       "      <th>1271910</th>\n",
       "      <td>2016-09-10</td>\n",
       "      <td>$85.00</td>\n",
       "    </tr>\n",
       "    <tr>\n",
       "      <th>153952</th>\n",
       "      <td>2016-10-17</td>\n",
       "      <td>$40.00</td>\n",
       "    </tr>\n",
       "  </tbody>\n",
       "</table>\n",
       "</div>"
      ],
      "text/plain": [
       "              date    price\n",
       "362271  2016-07-13  $225.00\n",
       "892466  2016-02-14   $63.00\n",
       "567602  2016-01-31  $100.00\n",
       "1271910 2016-09-10   $85.00\n",
       "153952  2016-10-17   $40.00"
      ]
     },
     "execution_count": 15,
     "metadata": {},
     "output_type": "execute_result"
    }
   ],
   "source": [
    "cal_df_2.sample(5)"
   ]
  },
  {
   "cell_type": "code",
   "execution_count": 18,
   "id": "54fe0742",
   "metadata": {},
   "outputs": [
    {
     "data": {
      "text/html": [
       "<div>\n",
       "<style scoped>\n",
       "    .dataframe tbody tr th:only-of-type {\n",
       "        vertical-align: middle;\n",
       "    }\n",
       "\n",
       "    .dataframe tbody tr th {\n",
       "        vertical-align: top;\n",
       "    }\n",
       "\n",
       "    .dataframe thead th {\n",
       "        text-align: right;\n",
       "    }\n",
       "</style>\n",
       "<table border=\"1\" class=\"dataframe\">\n",
       "  <thead>\n",
       "    <tr style=\"text-align: right;\">\n",
       "      <th></th>\n",
       "      <th>listing_id</th>\n",
       "      <th>id</th>\n",
       "      <th>date</th>\n",
       "      <th>reviewer_id</th>\n",
       "      <th>reviewer_name</th>\n",
       "      <th>comments</th>\n",
       "    </tr>\n",
       "  </thead>\n",
       "  <tbody>\n",
       "    <tr>\n",
       "      <th>67079</th>\n",
       "      <td>699460</td>\n",
       "      <td>26935759</td>\n",
       "      <td>2015-02-22</td>\n",
       "      <td>5774048</td>\n",
       "      <td>Alice</td>\n",
       "      <td>Great stay - really nice and characterful hous...</td>\n",
       "    </tr>\n",
       "    <tr>\n",
       "      <th>17007</th>\n",
       "      <td>7350870</td>\n",
       "      <td>48637557</td>\n",
       "      <td>2015-09-27</td>\n",
       "      <td>4446940</td>\n",
       "      <td>Todd</td>\n",
       "      <td>Stunning views and perfectly located.\\nIf your...</td>\n",
       "    </tr>\n",
       "    <tr>\n",
       "      <th>69532</th>\n",
       "      <td>2526405</td>\n",
       "      <td>45421142</td>\n",
       "      <td>2015-09-02</td>\n",
       "      <td>19690987</td>\n",
       "      <td>Austin</td>\n",
       "      <td>Great spot in cap hill close to good coffee an...</td>\n",
       "    </tr>\n",
       "    <tr>\n",
       "      <th>52871</th>\n",
       "      <td>793629</td>\n",
       "      <td>48420422</td>\n",
       "      <td>2015-09-26</td>\n",
       "      <td>3336152</td>\n",
       "      <td>Jenni</td>\n",
       "      <td>Absolutely loved Candace's home! Cute, cozy co...</td>\n",
       "    </tr>\n",
       "    <tr>\n",
       "      <th>35929</th>\n",
       "      <td>4100009</td>\n",
       "      <td>27210238</td>\n",
       "      <td>2015-02-28</td>\n",
       "      <td>5041037</td>\n",
       "      <td>Rachel</td>\n",
       "      <td>The appartment was great.  Even nicer than pic...</td>\n",
       "    </tr>\n",
       "  </tbody>\n",
       "</table>\n",
       "</div>"
      ],
      "text/plain": [
       "       listing_id        id       date  reviewer_id reviewer_name  \\\n",
       "67079      699460  26935759 2015-02-22      5774048         Alice   \n",
       "17007     7350870  48637557 2015-09-27      4446940          Todd   \n",
       "69532     2526405  45421142 2015-09-02     19690987        Austin   \n",
       "52871      793629  48420422 2015-09-26      3336152         Jenni   \n",
       "35929     4100009  27210238 2015-02-28      5041037        Rachel   \n",
       "\n",
       "                                                comments  \n",
       "67079  Great stay - really nice and characterful hous...  \n",
       "17007  Stunning views and perfectly located.\\nIf your...  \n",
       "69532  Great spot in cap hill close to good coffee an...  \n",
       "52871  Absolutely loved Candace's home! Cute, cozy co...  \n",
       "35929  The appartment was great.  Even nicer than pic...  "
      ]
     },
     "execution_count": 18,
     "metadata": {},
     "output_type": "execute_result"
    }
   ],
   "source": [
    "reviews_df.sample(5)"
   ]
  },
  {
   "cell_type": "code",
   "execution_count": 34,
   "id": "ca4e6c68",
   "metadata": {},
   "outputs": [],
   "source": [
    "listings_df = pd.read_csv('../Data/listings.csv',parse_dates=['last_scraped'])"
   ]
  },
  {
   "cell_type": "code",
   "execution_count": 39,
   "id": "3c091065",
   "metadata": {},
   "outputs": [
    {
     "name": "stdout",
     "output_type": "stream",
     "text": [
      "2016-01-04 00:00:00\n",
      "2016-01-04 00:00:00\n",
      "2016-01-04 00:00:00\n",
      "2017-01-02 00:00:00\n"
     ]
    }
   ],
   "source": [
    "print(listings_df['last_scraped'].min())\n",
    "print(listings_df['last_scraped'].max())\n",
    "print(cal_df['date'].min())\n",
    "print(cal_df['date'].max())"
   ]
  },
  {
   "cell_type": "code",
   "execution_count": 21,
   "id": "fe17c147",
   "metadata": {},
   "outputs": [
    {
     "data": {
      "text/html": [
       "<div>\n",
       "<style scoped>\n",
       "    .dataframe tbody tr th:only-of-type {\n",
       "        vertical-align: middle;\n",
       "    }\n",
       "\n",
       "    .dataframe tbody tr th {\n",
       "        vertical-align: top;\n",
       "    }\n",
       "\n",
       "    .dataframe thead th {\n",
       "        text-align: right;\n",
       "    }\n",
       "</style>\n",
       "<table border=\"1\" class=\"dataframe\">\n",
       "  <thead>\n",
       "    <tr style=\"text-align: right;\">\n",
       "      <th></th>\n",
       "      <th>id</th>\n",
       "      <th>listing_url</th>\n",
       "      <th>scrape_id</th>\n",
       "      <th>last_scraped</th>\n",
       "      <th>name</th>\n",
       "      <th>summary</th>\n",
       "      <th>space</th>\n",
       "      <th>description</th>\n",
       "      <th>experiences_offered</th>\n",
       "      <th>neighborhood_overview</th>\n",
       "      <th>...</th>\n",
       "      <th>review_scores_value</th>\n",
       "      <th>requires_license</th>\n",
       "      <th>license</th>\n",
       "      <th>jurisdiction_names</th>\n",
       "      <th>instant_bookable</th>\n",
       "      <th>cancellation_policy</th>\n",
       "      <th>require_guest_profile_picture</th>\n",
       "      <th>require_guest_phone_verification</th>\n",
       "      <th>calculated_host_listings_count</th>\n",
       "      <th>reviews_per_month</th>\n",
       "    </tr>\n",
       "  </thead>\n",
       "  <tbody>\n",
       "    <tr>\n",
       "      <th>2458</th>\n",
       "      <td>107046</td>\n",
       "      <td>https://www.airbnb.com/rooms/107046</td>\n",
       "      <td>20160104002432</td>\n",
       "      <td>2016-01-04</td>\n",
       "      <td>Beautiful, Artistic Home, near UW</td>\n",
       "      <td>Why not stay in a quintessential Seattle Bunga...</td>\n",
       "      <td>This charming Seattle Bungalow was built in th...</td>\n",
       "      <td>Why not stay in a quintessential Seattle Bunga...</td>\n",
       "      <td>none</td>\n",
       "      <td>Our neighborhood is a quiet residential area b...</td>\n",
       "      <td>...</td>\n",
       "      <td>10.0</td>\n",
       "      <td>f</td>\n",
       "      <td>NaN</td>\n",
       "      <td>WASHINGTON</td>\n",
       "      <td>f</td>\n",
       "      <td>strict</td>\n",
       "      <td>f</td>\n",
       "      <td>f</td>\n",
       "      <td>1</td>\n",
       "      <td>0.45</td>\n",
       "    </tr>\n",
       "    <tr>\n",
       "      <th>2942</th>\n",
       "      <td>1520549</td>\n",
       "      <td>https://www.airbnb.com/rooms/1520549</td>\n",
       "      <td>20160104002432</td>\n",
       "      <td>2016-01-04</td>\n",
       "      <td>Io House (2P #1) - SLU walkable</td>\n",
       "      <td>NaN</td>\n",
       "      <td>About Io House: This is a home for itinerant t...</td>\n",
       "      <td>About Io House: This is a home for itinerant t...</td>\n",
       "      <td>none</td>\n",
       "      <td>NaN</td>\n",
       "      <td>...</td>\n",
       "      <td>9.0</td>\n",
       "      <td>f</td>\n",
       "      <td>NaN</td>\n",
       "      <td>WASHINGTON</td>\n",
       "      <td>f</td>\n",
       "      <td>strict</td>\n",
       "      <td>f</td>\n",
       "      <td>f</td>\n",
       "      <td>37</td>\n",
       "      <td>0.16</td>\n",
       "    </tr>\n",
       "    <tr>\n",
       "      <th>1257</th>\n",
       "      <td>6364549</td>\n",
       "      <td>https://www.airbnb.com/rooms/6364549</td>\n",
       "      <td>20160104002432</td>\n",
       "      <td>2016-01-04</td>\n",
       "      <td>Affordable Downtown Studio</td>\n",
       "      <td>550 s.f. studio with a queen bed and a cush so...</td>\n",
       "      <td>Affordable, close to Pike Place Market, quiet ...</td>\n",
       "      <td>550 s.f. studio with a queen bed and a cush so...</td>\n",
       "      <td>none</td>\n",
       "      <td>There are a TON of great restaurants in the ne...</td>\n",
       "      <td>...</td>\n",
       "      <td>10.0</td>\n",
       "      <td>f</td>\n",
       "      <td>NaN</td>\n",
       "      <td>WASHINGTON</td>\n",
       "      <td>f</td>\n",
       "      <td>moderate</td>\n",
       "      <td>f</td>\n",
       "      <td>f</td>\n",
       "      <td>1</td>\n",
       "      <td>2.45</td>\n",
       "    </tr>\n",
       "    <tr>\n",
       "      <th>759</th>\n",
       "      <td>9976135</td>\n",
       "      <td>https://www.airbnb.com/rooms/9976135</td>\n",
       "      <td>20160104002432</td>\n",
       "      <td>2016-01-04</td>\n",
       "      <td>Cute room right by express lane</td>\n",
       "      <td>My room is located in an apartment called Shan...</td>\n",
       "      <td>NaN</td>\n",
       "      <td>My room is located in an apartment called Shan...</td>\n",
       "      <td>none</td>\n",
       "      <td>NaN</td>\n",
       "      <td>...</td>\n",
       "      <td>NaN</td>\n",
       "      <td>f</td>\n",
       "      <td>NaN</td>\n",
       "      <td>WASHINGTON</td>\n",
       "      <td>f</td>\n",
       "      <td>flexible</td>\n",
       "      <td>f</td>\n",
       "      <td>f</td>\n",
       "      <td>1</td>\n",
       "      <td>NaN</td>\n",
       "    </tr>\n",
       "    <tr>\n",
       "      <th>1371</th>\n",
       "      <td>2186330</td>\n",
       "      <td>https://www.airbnb.com/rooms/2186330</td>\n",
       "      <td>20160104002432</td>\n",
       "      <td>2016-01-04</td>\n",
       "      <td>Downtown Seattle Near Pike Pl! MT2</td>\n",
       "      <td>The Metropolitan Tower property is centrally l...</td>\n",
       "      <td>AMAZING BUILDING, AMENITIES, AND LOCATION WITH...</td>\n",
       "      <td>The Metropolitan Tower property is centrally l...</td>\n",
       "      <td>none</td>\n",
       "      <td>In the heart of Downtown Seattle! Nearby Attra...</td>\n",
       "      <td>...</td>\n",
       "      <td>8.0</td>\n",
       "      <td>f</td>\n",
       "      <td>NaN</td>\n",
       "      <td>WASHINGTON</td>\n",
       "      <td>f</td>\n",
       "      <td>strict</td>\n",
       "      <td>f</td>\n",
       "      <td>f</td>\n",
       "      <td>1</td>\n",
       "      <td>1.11</td>\n",
       "    </tr>\n",
       "  </tbody>\n",
       "</table>\n",
       "<p>5 rows × 92 columns</p>\n",
       "</div>"
      ],
      "text/plain": [
       "           id                           listing_url       scrape_id  \\\n",
       "2458   107046   https://www.airbnb.com/rooms/107046  20160104002432   \n",
       "2942  1520549  https://www.airbnb.com/rooms/1520549  20160104002432   \n",
       "1257  6364549  https://www.airbnb.com/rooms/6364549  20160104002432   \n",
       "759   9976135  https://www.airbnb.com/rooms/9976135  20160104002432   \n",
       "1371  2186330  https://www.airbnb.com/rooms/2186330  20160104002432   \n",
       "\n",
       "     last_scraped                                name  \\\n",
       "2458   2016-01-04   Beautiful, Artistic Home, near UW   \n",
       "2942   2016-01-04    Io House (2P #1) - SLU walkable    \n",
       "1257   2016-01-04          Affordable Downtown Studio   \n",
       "759    2016-01-04     Cute room right by express lane   \n",
       "1371   2016-01-04  Downtown Seattle Near Pike Pl! MT2   \n",
       "\n",
       "                                                summary  \\\n",
       "2458  Why not stay in a quintessential Seattle Bunga...   \n",
       "2942                                                NaN   \n",
       "1257  550 s.f. studio with a queen bed and a cush so...   \n",
       "759   My room is located in an apartment called Shan...   \n",
       "1371  The Metropolitan Tower property is centrally l...   \n",
       "\n",
       "                                                  space  \\\n",
       "2458  This charming Seattle Bungalow was built in th...   \n",
       "2942  About Io House: This is a home for itinerant t...   \n",
       "1257  Affordable, close to Pike Place Market, quiet ...   \n",
       "759                                                 NaN   \n",
       "1371  AMAZING BUILDING, AMENITIES, AND LOCATION WITH...   \n",
       "\n",
       "                                            description experiences_offered  \\\n",
       "2458  Why not stay in a quintessential Seattle Bunga...                none   \n",
       "2942  About Io House: This is a home for itinerant t...                none   \n",
       "1257  550 s.f. studio with a queen bed and a cush so...                none   \n",
       "759   My room is located in an apartment called Shan...                none   \n",
       "1371  The Metropolitan Tower property is centrally l...                none   \n",
       "\n",
       "                                  neighborhood_overview  ...  \\\n",
       "2458  Our neighborhood is a quiet residential area b...  ...   \n",
       "2942                                                NaN  ...   \n",
       "1257  There are a TON of great restaurants in the ne...  ...   \n",
       "759                                                 NaN  ...   \n",
       "1371  In the heart of Downtown Seattle! Nearby Attra...  ...   \n",
       "\n",
       "     review_scores_value requires_license license jurisdiction_names  \\\n",
       "2458                10.0                f     NaN         WASHINGTON   \n",
       "2942                 9.0                f     NaN         WASHINGTON   \n",
       "1257                10.0                f     NaN         WASHINGTON   \n",
       "759                  NaN                f     NaN         WASHINGTON   \n",
       "1371                 8.0                f     NaN         WASHINGTON   \n",
       "\n",
       "     instant_bookable cancellation_policy  require_guest_profile_picture  \\\n",
       "2458                f              strict                              f   \n",
       "2942                f              strict                              f   \n",
       "1257                f            moderate                              f   \n",
       "759                 f            flexible                              f   \n",
       "1371                f              strict                              f   \n",
       "\n",
       "     require_guest_phone_verification calculated_host_listings_count  \\\n",
       "2458                                f                              1   \n",
       "2942                                f                             37   \n",
       "1257                                f                              1   \n",
       "759                                 f                              1   \n",
       "1371                                f                              1   \n",
       "\n",
       "     reviews_per_month  \n",
       "2458              0.45  \n",
       "2942              0.16  \n",
       "1257              2.45  \n",
       "759                NaN  \n",
       "1371              1.11  \n",
       "\n",
       "[5 rows x 92 columns]"
      ]
     },
     "execution_count": 21,
     "metadata": {},
     "output_type": "execute_result"
    }
   ],
   "source": [
    "listings_df.sample(5)"
   ]
  },
  {
   "cell_type": "code",
   "execution_count": 22,
   "id": "7f762238",
   "metadata": {},
   "outputs": [
    {
     "data": {
      "text/plain": [
       "Index(['id', 'listing_url', 'scrape_id', 'last_scraped', 'name', 'summary',\n",
       "       'space', 'description', 'experiences_offered', 'neighborhood_overview',\n",
       "       'notes', 'transit', 'thumbnail_url', 'medium_url', 'picture_url',\n",
       "       'xl_picture_url', 'host_id', 'host_url', 'host_name', 'host_since',\n",
       "       'host_location', 'host_about', 'host_response_time',\n",
       "       'host_response_rate', 'host_acceptance_rate', 'host_is_superhost',\n",
       "       'host_thumbnail_url', 'host_picture_url', 'host_neighbourhood',\n",
       "       'host_listings_count', 'host_total_listings_count',\n",
       "       'host_verifications', 'host_has_profile_pic', 'host_identity_verified',\n",
       "       'street', 'neighbourhood', 'neighbourhood_cleansed',\n",
       "       'neighbourhood_group_cleansed', 'city', 'state', 'zipcode', 'market',\n",
       "       'smart_location', 'country_code', 'country', 'latitude', 'longitude',\n",
       "       'is_location_exact', 'property_type', 'room_type', 'accommodates',\n",
       "       'bathrooms', 'bedrooms', 'beds', 'bed_type', 'amenities', 'square_feet',\n",
       "       'price', 'weekly_price', 'monthly_price', 'security_deposit',\n",
       "       'cleaning_fee', 'guests_included', 'extra_people', 'minimum_nights',\n",
       "       'maximum_nights', 'calendar_updated', 'has_availability',\n",
       "       'availability_30', 'availability_60', 'availability_90',\n",
       "       'availability_365', 'calendar_last_scraped', 'number_of_reviews',\n",
       "       'first_review', 'last_review', 'review_scores_rating',\n",
       "       'review_scores_accuracy', 'review_scores_cleanliness',\n",
       "       'review_scores_checkin', 'review_scores_communication',\n",
       "       'review_scores_location', 'review_scores_value', 'requires_license',\n",
       "       'license', 'jurisdiction_names', 'instant_bookable',\n",
       "       'cancellation_policy', 'require_guest_profile_picture',\n",
       "       'require_guest_phone_verification', 'calculated_host_listings_count',\n",
       "       'reviews_per_month'],\n",
       "      dtype='object')"
      ]
     },
     "execution_count": 22,
     "metadata": {},
     "output_type": "execute_result"
    }
   ],
   "source": [
    "listings_df.columns"
   ]
  },
  {
   "cell_type": "code",
   "execution_count": 25,
   "id": "a253d249",
   "metadata": {},
   "outputs": [
    {
     "data": {
      "text/html": [
       "<div>\n",
       "<style scoped>\n",
       "    .dataframe tbody tr th:only-of-type {\n",
       "        vertical-align: middle;\n",
       "    }\n",
       "\n",
       "    .dataframe tbody tr th {\n",
       "        vertical-align: top;\n",
       "    }\n",
       "\n",
       "    .dataframe thead th {\n",
       "        text-align: right;\n",
       "    }\n",
       "</style>\n",
       "<table border=\"1\" class=\"dataframe\">\n",
       "  <thead>\n",
       "    <tr style=\"text-align: right;\">\n",
       "      <th></th>\n",
       "      <th>neighbourhood</th>\n",
       "      <th>neighbourhood_cleansed</th>\n",
       "      <th>neighbourhood_group_cleansed</th>\n",
       "    </tr>\n",
       "  </thead>\n",
       "  <tbody>\n",
       "    <tr>\n",
       "      <th>3196</th>\n",
       "      <td>Lower Queen Anne</td>\n",
       "      <td>Lower Queen Anne</td>\n",
       "      <td>Queen Anne</td>\n",
       "    </tr>\n",
       "    <tr>\n",
       "      <th>2782</th>\n",
       "      <td>Capitol Hill</td>\n",
       "      <td>Broadway</td>\n",
       "      <td>Capitol Hill</td>\n",
       "    </tr>\n",
       "    <tr>\n",
       "      <th>2404</th>\n",
       "      <td>Maple Leaf</td>\n",
       "      <td>Maple Leaf</td>\n",
       "      <td>Northgate</td>\n",
       "    </tr>\n",
       "    <tr>\n",
       "      <th>1304</th>\n",
       "      <td>Belltown</td>\n",
       "      <td>Belltown</td>\n",
       "      <td>Downtown</td>\n",
       "    </tr>\n",
       "    <tr>\n",
       "      <th>1667</th>\n",
       "      <td>Capitol Hill</td>\n",
       "      <td>First Hill</td>\n",
       "      <td>Downtown</td>\n",
       "    </tr>\n",
       "  </tbody>\n",
       "</table>\n",
       "</div>"
      ],
      "text/plain": [
       "         neighbourhood neighbourhood_cleansed neighbourhood_group_cleansed\n",
       "3196  Lower Queen Anne       Lower Queen Anne                   Queen Anne\n",
       "2782      Capitol Hill               Broadway                 Capitol Hill\n",
       "2404        Maple Leaf             Maple Leaf                    Northgate\n",
       "1304          Belltown               Belltown                     Downtown\n",
       "1667      Capitol Hill             First Hill                     Downtown"
      ]
     },
     "execution_count": 25,
     "metadata": {},
     "output_type": "execute_result"
    }
   ],
   "source": [
    "listings_df[['neighbourhood', 'neighbourhood_cleansed','neighbourhood_group_cleansed']].sample(5)"
   ]
  },
  {
   "cell_type": "code",
   "execution_count": 30,
   "id": "0d601e6f",
   "metadata": {},
   "outputs": [
    {
     "data": {
      "text/plain": [
       "Capitol Hill          351\n",
       "Ballard               213\n",
       "Belltown              204\n",
       "Minor                 192\n",
       "Queen Anne            187\n",
       "                     ... \n",
       "South Park              2\n",
       "Pike Market             2\n",
       "Fairmount Park          1\n",
       "North College Park      1\n",
       "Roxhill                 1\n",
       "Name: neighbourhood, Length: 81, dtype: int64"
      ]
     },
     "execution_count": 30,
     "metadata": {},
     "output_type": "execute_result"
    }
   ],
   "source": [
    "listings_df['neighbourhood'].value_counts()"
   ]
  },
  {
   "cell_type": "code",
   "execution_count": 31,
   "id": "1a908357",
   "metadata": {},
   "outputs": [
    {
     "data": {
      "text/plain": [
       "Broadway             397\n",
       "Belltown             234\n",
       "Wallingford          167\n",
       "Fremont              158\n",
       "Minor                135\n",
       "                    ... \n",
       "Arbor Heights          5\n",
       "Pinehurst              4\n",
       "South Beacon Hill      4\n",
       "South Park             3\n",
       "Roxhill                2\n",
       "Name: neighbourhood_cleansed, Length: 87, dtype: int64"
      ]
     },
     "execution_count": 31,
     "metadata": {},
     "output_type": "execute_result"
    }
   ],
   "source": [
    "listings_df['neighbourhood_cleansed'].value_counts()"
   ]
  },
  {
   "cell_type": "code",
   "execution_count": 32,
   "id": "99808fdb",
   "metadata": {},
   "outputs": [
    {
     "data": {
      "text/plain": [
       "Other neighborhoods    794\n",
       "Capitol Hill           567\n",
       "Downtown               530\n",
       "Central Area           369\n",
       "Queen Anne             295\n",
       "Ballard                230\n",
       "West Seattle           203\n",
       "Rainier Valley         159\n",
       "University District    122\n",
       "Beacon Hill            118\n",
       "Cascade                 89\n",
       "Northgate               80\n",
       "Delridge                79\n",
       "Lake City               67\n",
       "Magnolia                61\n",
       "Seward Park             44\n",
       "Interbay                11\n",
       "Name: neighbourhood_group_cleansed, dtype: int64"
      ]
     },
     "execution_count": 32,
     "metadata": {},
     "output_type": "execute_result"
    }
   ],
   "source": [
    "listings_df['neighbourhood_group_cleansed'].value_counts()"
   ]
  },
  {
   "cell_type": "code",
   "execution_count": 40,
   "id": "c4b9138d",
   "metadata": {},
   "outputs": [
    {
     "data": {
      "text/html": [
       "<div>\n",
       "<style scoped>\n",
       "    .dataframe tbody tr th:only-of-type {\n",
       "        vertical-align: middle;\n",
       "    }\n",
       "\n",
       "    .dataframe tbody tr th {\n",
       "        vertical-align: top;\n",
       "    }\n",
       "\n",
       "    .dataframe thead th {\n",
       "        text-align: right;\n",
       "    }\n",
       "</style>\n",
       "<table border=\"1\" class=\"dataframe\">\n",
       "  <thead>\n",
       "    <tr style=\"text-align: right;\">\n",
       "      <th></th>\n",
       "      <th>price</th>\n",
       "      <th>weekly_price</th>\n",
       "      <th>monthly_price</th>\n",
       "    </tr>\n",
       "  </thead>\n",
       "  <tbody>\n",
       "    <tr>\n",
       "      <th>2565</th>\n",
       "      <td>$110.00</td>\n",
       "      <td>$690.00</td>\n",
       "      <td>$2,595.00</td>\n",
       "    </tr>\n",
       "    <tr>\n",
       "      <th>3156</th>\n",
       "      <td>$135.00</td>\n",
       "      <td>$850.00</td>\n",
       "      <td>NaN</td>\n",
       "    </tr>\n",
       "    <tr>\n",
       "      <th>3190</th>\n",
       "      <td>$150.00</td>\n",
       "      <td>NaN</td>\n",
       "      <td>NaN</td>\n",
       "    </tr>\n",
       "    <tr>\n",
       "      <th>3375</th>\n",
       "      <td>$50.00</td>\n",
       "      <td>$300.00</td>\n",
       "      <td>$1,050.00</td>\n",
       "    </tr>\n",
       "    <tr>\n",
       "      <th>1561</th>\n",
       "      <td>$150.00</td>\n",
       "      <td>$875.00</td>\n",
       "      <td>NaN</td>\n",
       "    </tr>\n",
       "  </tbody>\n",
       "</table>\n",
       "</div>"
      ],
      "text/plain": [
       "        price weekly_price monthly_price\n",
       "2565  $110.00      $690.00     $2,595.00\n",
       "3156  $135.00      $850.00           NaN\n",
       "3190  $150.00          NaN           NaN\n",
       "3375   $50.00      $300.00     $1,050.00\n",
       "1561  $150.00      $875.00           NaN"
      ]
     },
     "execution_count": 40,
     "metadata": {},
     "output_type": "execute_result"
    }
   ],
   "source": [
    "listings_df[['price', 'weekly_price', 'monthly_price']].sample(5)"
   ]
  },
  {
   "cell_type": "code",
   "execution_count": 41,
   "id": "1b1d2865",
   "metadata": {},
   "outputs": [
    {
     "data": {
      "text/plain": [
       "price               0\n",
       "weekly_price     1809\n",
       "monthly_price    2301\n",
       "dtype: int64"
      ]
     },
     "execution_count": 41,
     "metadata": {},
     "output_type": "execute_result"
    }
   ],
   "source": [
    "listings_df[['price', 'weekly_price', 'monthly_price']].isna().sum()"
   ]
  },
  {
   "cell_type": "code",
   "execution_count": null,
   "id": "17fb2dd9",
   "metadata": {},
   "outputs": [],
   "source": []
  }
 ],
 "metadata": {
  "kernelspec": {
   "display_name": "Python 3",
   "language": "python",
   "name": "python3"
  },
  "language_info": {
   "codemirror_mode": {
    "name": "ipython",
    "version": 3
   },
   "file_extension": ".py",
   "mimetype": "text/x-python",
   "name": "python",
   "nbconvert_exporter": "python",
   "pygments_lexer": "ipython3",
   "version": "3.8.3"
  }
 },
 "nbformat": 4,
 "nbformat_minor": 5
}
